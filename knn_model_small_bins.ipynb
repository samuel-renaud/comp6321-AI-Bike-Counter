{
 "cells": [
  {
   "cell_type": "code",
   "execution_count": 1,
   "id": "1446c94a",
   "metadata": {},
   "outputs": [],
   "source": [
    "# import the necessary utilities\n",
    "import numpy as np\n",
    "import pandas as pd\n",
    "import matplotlib.pyplot as plt\n",
    "from numpy import mean\n",
    "from numpy import std\n",
    "from sklearn.preprocessing import StandardScaler\n",
    "from sklearn.preprocessing import OrdinalEncoder\n",
    "from sklearn.preprocessing import OneHotEncoder\n",
    "from sklearn.neighbors import KNeighborsClassifier\n",
    "from sklearn.model_selection import train_test_split\n",
    "from sklearn.model_selection import KFold\n",
    "from sklearn.model_selection import cross_val_score\n",
    "from sklearn.metrics import roc_curve\n",
    "from sklearn.metrics import auc\n",
    "from sklearn.metrics import accuracy_score\n",
    "from sklearn.metrics import recall_score\n",
    "from sklearn.metrics import precision_score\n",
    "from sklearn.metrics import confusion_matrix"
   ]
  },
  {
   "cell_type": "markdown",
   "id": "5c17fa43",
   "metadata": {},
   "source": [
    "Import the processed data"
   ]
  },
  {
   "cell_type": "code",
   "execution_count": 2,
   "id": "d09f9d29",
   "metadata": {},
   "outputs": [
    {
     "data": {
      "text/html": [
       "<div>\n",
       "<style scoped>\n",
       "    .dataframe tbody tr th:only-of-type {\n",
       "        vertical-align: middle;\n",
       "    }\n",
       "\n",
       "    .dataframe tbody tr th {\n",
       "        vertical-align: top;\n",
       "    }\n",
       "\n",
       "    .dataframe thead th {\n",
       "        text-align: right;\n",
       "    }\n",
       "</style>\n",
       "<table border=\"1\" class=\"dataframe\">\n",
       "  <thead>\n",
       "    <tr style=\"text-align: right;\">\n",
       "      <th></th>\n",
       "      <th>Year</th>\n",
       "      <th>Month</th>\n",
       "      <th>Day</th>\n",
       "      <th>Max Temp (°C)</th>\n",
       "      <th>Min Temp (°C)</th>\n",
       "      <th>Mean Temp (°C)</th>\n",
       "      <th>Dew Point Temp (°C)</th>\n",
       "      <th>Rel Hum (%)</th>\n",
       "      <th>Wind Dir (10s deg)</th>\n",
       "      <th>Wind Spd (km/h)</th>\n",
       "      <th>Berri1</th>\n",
       "      <th>Maisonneuve_2</th>\n",
       "      <th>Maisonneuve_1</th>\n",
       "    </tr>\n",
       "  </thead>\n",
       "  <tbody>\n",
       "    <tr>\n",
       "      <th>0</th>\n",
       "      <td>2009.0</td>\n",
       "      <td>1.0</td>\n",
       "      <td>1.0</td>\n",
       "      <td>-14.7</td>\n",
       "      <td>-19.9</td>\n",
       "      <td>-17.3</td>\n",
       "      <td>-23.125000</td>\n",
       "      <td>59.916667</td>\n",
       "      <td>28.291667</td>\n",
       "      <td>17.375000</td>\n",
       "      <td>29.0</td>\n",
       "      <td>35.0</td>\n",
       "      <td>20.0</td>\n",
       "    </tr>\n",
       "    <tr>\n",
       "      <th>1</th>\n",
       "      <td>2009.0</td>\n",
       "      <td>1.0</td>\n",
       "      <td>2.0</td>\n",
       "      <td>-11.3</td>\n",
       "      <td>-16.2</td>\n",
       "      <td>-13.8</td>\n",
       "      <td>-17.029167</td>\n",
       "      <td>76.250000</td>\n",
       "      <td>7.083333</td>\n",
       "      <td>12.250000</td>\n",
       "      <td>19.0</td>\n",
       "      <td>22.0</td>\n",
       "      <td>3.0</td>\n",
       "    </tr>\n",
       "    <tr>\n",
       "      <th>2</th>\n",
       "      <td>2009.0</td>\n",
       "      <td>1.0</td>\n",
       "      <td>3.0</td>\n",
       "      <td>-8.1</td>\n",
       "      <td>-13.0</td>\n",
       "      <td>-10.6</td>\n",
       "      <td>-15.441667</td>\n",
       "      <td>67.958333</td>\n",
       "      <td>28.208333</td>\n",
       "      <td>22.541667</td>\n",
       "      <td>24.0</td>\n",
       "      <td>22.0</td>\n",
       "      <td>12.0</td>\n",
       "    </tr>\n",
       "  </tbody>\n",
       "</table>\n",
       "</div>"
      ],
      "text/plain": [
       "     Year  Month  Day  Max Temp (°C)  Min Temp (°C)  Mean Temp (°C)  \\\n",
       "0  2009.0    1.0  1.0          -14.7          -19.9           -17.3   \n",
       "1  2009.0    1.0  2.0          -11.3          -16.2           -13.8   \n",
       "2  2009.0    1.0  3.0           -8.1          -13.0           -10.6   \n",
       "\n",
       "   Dew Point Temp (°C)  Rel Hum (%)  Wind Dir (10s deg)  Wind Spd (km/h)  \\\n",
       "0           -23.125000    59.916667           28.291667        17.375000   \n",
       "1           -17.029167    76.250000            7.083333        12.250000   \n",
       "2           -15.441667    67.958333           28.208333        22.541667   \n",
       "\n",
       "   Berri1  Maisonneuve_2  Maisonneuve_1  \n",
       "0    29.0           35.0           20.0  \n",
       "1    19.0           22.0            3.0  \n",
       "2    24.0           22.0           12.0  "
      ]
     },
     "execution_count": 2,
     "metadata": {},
     "output_type": "execute_result"
    }
   ],
   "source": [
    "data = pd.read_csv('processed_data.csv')\n",
    "data.head(3)"
   ]
  },
  {
   "cell_type": "markdown",
   "id": "62ba2a64",
   "metadata": {},
   "source": [
    "Select the dataset to train on by typing into choices dictionnary: berri, maison2, maison1"
   ]
  },
  {
   "cell_type": "code",
   "execution_count": 3,
   "id": "2f53fd78",
   "metadata": {},
   "outputs": [],
   "source": [
    "choices = {'berri':\"Berri1\",'maison2':\"Maisonneuve_2\",'maison1':\"Maisonneuve_1\" }\n",
    "\n",
    "selection = choices['maison2']  #<- select by typing into here\n",
    "\n",
    "y = data[selection].to_numpy()"
   ]
  },
  {
   "cell_type": "code",
   "execution_count": 4,
   "id": "4697600e",
   "metadata": {},
   "outputs": [],
   "source": [
    "#create custom bin sizes based on Freedman–Diaconis rule see: https://en.wikipedia.org/wiki/Freedman%E2%80%93Diaconis_rule\n",
    "q3, q1 = np.percentile(y,[75,25])\n",
    "bin_width = int(2*(q3-q1)/np.cbrt(len(y)))\n",
    "bins = np.arange(0,max(y)+bin_width,bin_width)\n",
    "\n",
    "To_categorize = np.arange(0,len(bins)-1,1)\n",
    "\n",
    "data = data.assign(Berri1=pd.cut(data['Berri1'], \n",
    "                               bins=bins, \n",
    "                               labels=To_categorize))\n",
    "data = data.assign(Maisonneuve_2=pd.cut(data['Maisonneuve_2'], \n",
    "                               bins=bins, \n",
    "                               labels=To_categorize))\n",
    "data = data.assign(Maisonneuve_1=pd.cut(data['Maisonneuve_1'], \n",
    "                               bins=bins, \n",
    "                               labels=To_categorize))\n",
    "bike_data=data"
   ]
  },
  {
   "cell_type": "code",
   "execution_count": 5,
   "id": "8dd5dfbb",
   "metadata": {},
   "outputs": [
    {
     "name": "stdout",
     "output_type": "stream",
     "text": [
      "(17,) 603\n"
     ]
    }
   ],
   "source": [
    "print(bins.shape, bin_width)"
   ]
  },
  {
   "cell_type": "code",
   "execution_count": 6,
   "id": "9ea19b27",
   "metadata": {},
   "outputs": [],
   "source": [
    "columns_to_normalize = ['Max Temp (°C)',\n",
    "                         'Min Temp (°C)',\n",
    "                         'Mean Temp (°C)',\n",
    "                         'Dew Point Temp (°C)',\n",
    "                         'Rel Hum (%)',\n",
    "                         'Wind Dir (10s deg)',\n",
    "                         'Wind Spd (km/h)']"
   ]
  },
  {
   "cell_type": "code",
   "execution_count": 7,
   "id": "7c14551f",
   "metadata": {},
   "outputs": [],
   "source": [
    "std_scaler = StandardScaler()\n",
    "features = bike_data[columns_to_normalize]\n",
    "scaled_features = std_scaler.fit_transform(features)\n",
    "scaled_features = pd.DataFrame(scaled_features, index=bike_data.index)\n",
    "scaled_features.columns = columns_to_normalize\n",
    "bike_data[columns_to_normalize] = scaled_features\n",
    "#bike_data = bike_data.dropna() #using this removes the empty bins near the end that actually still have sparse datapoints"
   ]
  },
  {
   "cell_type": "code",
   "execution_count": 8,
   "id": "58afa751",
   "metadata": {},
   "outputs": [],
   "source": [
    "X = bike_data.drop(labels=['Berri1', 'Maisonneuve_2', 'Maisonneuve_1'],axis=1)\n",
    "y= bike_data[selection]"
   ]
  },
  {
   "cell_type": "code",
   "execution_count": 9,
   "id": "076c11e8",
   "metadata": {},
   "outputs": [
    {
     "name": "stdout",
     "output_type": "stream",
     "text": [
      "training set accuracy 1.0\n",
      "test set accuracy 0.375\n",
      "precision:  0.183\n",
      "recall:  0.196\n",
      "confusion: \n",
      " [[75  1  0  0  0  0  0  0  0  0  1  1  0  0]\n",
      " [19  3  3  2  1  1  0  0  0  0  0  0  0  0]\n",
      " [ 6  1  2  3  1  1  0  2  0  0  0  0  0  0]\n",
      " [ 2  2  2  2  1  0  1  0  0  2  0  0  0  0]\n",
      " [ 2  1  1  0  2  2  1  0  0  1  1  0  0  0]\n",
      " [ 3  2  3  1  1  1  4  0  0  0  5  4  0  0]\n",
      " [ 3  0  1  0  0  2  3  0  0  1  1  2  0  0]\n",
      " [ 2  4  0  3  0  3  2  0  0  0  1  3  0  0]\n",
      " [ 3  1  0  1  0  1  3  0  1  1  4  3  0  0]\n",
      " [ 0  0  0  0  0  0  3  0  3  2  2  5  0  0]\n",
      " [ 2  0  0  0  0  2  3  0  0  0  2  2  0  0]\n",
      " [ 0  0  0  0  0  0  0  1  0  2  5 10  0  0]\n",
      " [ 1  0  0  0  0  0  0  0  0  0  3  4  0  0]\n",
      " [ 0  0  0  0  0  0  0  0  0  0  3  1  0  0]]\n"
     ]
    }
   ],
   "source": [
    "X_train, X_test, y_train, y_test = train_test_split(X, y, test_size = 0.10) \n",
    "\n",
    "knn = KNeighborsClassifier(n_neighbors=80, weights='distance',p=1)\n",
    "knn.fit(X_train,y_train)\n",
    "pred_train = knn.predict(X_train)\n",
    "pred_test = knn.predict(X_test)\n",
    "acc_train = accuracy_score(y_train, pred_train)\n",
    "acc_test = accuracy_score(y_test, pred_test)\n",
    "print('training set accuracy', acc_train.round(3))\n",
    "print('test set accuracy', acc_test.round(3))\n",
    "\n",
    "\n",
    "precision = precision_score(y_test, pred_test, average=\"macro\", zero_division=0) # for each classes\n",
    "print(\"precision: \",precision.round(3))\n",
    "recall = recall_score(y_test, pred_test, average=\"macro\", zero_division=0) # for each classes\n",
    "print(\"recall: \",recall.round(3))\n",
    "confusion = confusion_matrix(y_test, pred_test)\n",
    "print(\"confusion: \\n\",confusion)"
   ]
  },
  {
   "cell_type": "code",
   "execution_count": 10,
   "id": "8b1c7d66",
   "metadata": {},
   "outputs": [
    {
     "name": "stdout",
     "output_type": "stream",
     "text": [
      "10-fold Accuracy: 0.378 (0.017)\n"
     ]
    }
   ],
   "source": [
    "# prepare the cross-validation procedure\n",
    "cv = KFold(n_splits=10, random_state=1, shuffle=True)\n",
    "# evaluate model\n",
    "scores = cross_val_score(knn, X, y, scoring='accuracy', cv=cv, n_jobs=-1)\n",
    "# report performance\n",
    "print('10-fold Accuracy: %.3f (%.3f)' % (mean(scores), std(scores)))"
   ]
  },
  {
   "cell_type": "code",
   "execution_count": 11,
   "id": "704aad40",
   "metadata": {},
   "outputs": [],
   "source": [
    "items_in_ytest = set(y_test)\n",
    "n_items = len(items_in_ytest)"
   ]
  },
  {
   "cell_type": "code",
   "execution_count": 12,
   "id": "bc00fbf1",
   "metadata": {},
   "outputs": [
    {
     "data": {
      "image/png": "[encoded data removed]",
      "text/plain": [
       "<Figure size 432x288 with 1 Axes>"
      ]
     },
     "metadata": {
      "needs_background": "light"
     },
     "output_type": "display_data"
    }
   ],
   "source": [
    "#check the classes in y_test\n",
    "\n",
    "#y_test_list = list(set(y_test))\n",
    "\n",
    "\"\"\"\n",
    "blablabla\n",
    "\"\"\"\n",
    "pred_prob = knn.predict_proba(X_test)\n",
    "\n",
    "y_test_dummies = pd.get_dummies(y_test, drop_first=False).values\n",
    "\n",
    "# roc curve for classes\n",
    "fpr = {}\n",
    "tpr = {}\n",
    "thresh ={}\n",
    "roc_auc = {}\n",
    "\n",
    "for i in range(n_items):\n",
    "    fpr[i], tpr[i], _ = roc_curve(y_test_dummies[:, i], pred_prob[:, i])\n",
    "    roc_auc[i] = auc(fpr[i], tpr[i])\n",
    "\n",
    "all_fpr = np.unique(np.concatenate([fpr[i] for i in range(n_items)]))\n",
    "\n",
    "# Then interpolate all ROC curves at this points\n",
    "mean_tpr = np.zeros_like(all_fpr)\n",
    "for i in range(n_items):\n",
    "    mean_tpr += np.interp(all_fpr, fpr[i], tpr[i])\n",
    "\n",
    "# Finally average it and compute AUC\n",
    "mean_tpr /= n_items\n",
    "\n",
    "fpr[\"macro\"] = all_fpr\n",
    "tpr[\"macro\"] = mean_tpr\n",
    "roc_auc[\"macro\"] = auc(fpr[\"macro\"], tpr[\"macro\"])\n",
    "\n",
    "plt.plot(\n",
    "    fpr[\"macro\"],\n",
    "    tpr[\"macro\"],\n",
    "    label=\"macro-average ROC curve (area = {0:0.2f})\".format(roc_auc[\"macro\"]),\n",
    "    color=\"navy\",\n",
    "    linestyle=\":\",\n",
    "    linewidth=4,\n",
    ")\n",
    "\n",
    "plt.plot([0, 1], [0, 1], \"k--\")\n",
    "plt.xlim([0.0, 1.0])\n",
    "plt.ylim([0.0, 1.05])\n",
    "plt.xlabel(\"False Positive Rate\")\n",
    "plt.ylabel(\"True Positive Rate\")\n",
    "plt.title(\"Some extension of Receiver operating characteristic to multiclass\")\n",
    "plt.legend(loc=\"lower right\")\n",
    "plt.show()"
   ]
  },
  {
   "cell_type": "code",
   "execution_count": 13,
   "id": "604b83e4",
   "metadata": {},
   "outputs": [],
   "source": [
    "# np.save('results\\\\berri\\\\knn_out.npy',[pred_test,y_test])\n",
    "# np.save('results\\\\berri\\knn_fpr_tpr.npy',[fpr['macro'],tpr['macro'],roc_auc])"
   ]
  },
  {
   "cell_type": "code",
   "execution_count": 14,
   "id": "2988fad1",
   "metadata": {},
   "outputs": [],
   "source": [
    "#np.save('results\\\\berri\\\\knn_trn_tst.npy',[acc_train,acc_test])\n",
    "#np.save('results\\\\maison1\\\\knn_trn_tst.npy',[acc_train,acc_test])\n",
    "np.save('results\\\\maison2\\\\knn_trn_tst.npy',[acc_train,acc_test])"
   ]
  },
  {
   "cell_type": "code",
   "execution_count": null,
   "id": "9d16f020",
   "metadata": {},
   "outputs": [],
   "source": []
  }
 ],
 "metadata": {
  "kernelspec": {
   "display_name": "Python 3 (ipykernel)",
   "language": "python",
   "name": "python3"
  },
  "language_info": {
   "codemirror_mode": {
    "name": "ipython",
    "version": 3
   },
   "file_extension": ".py",
   "mimetype": "text/x-python",
   "name": "python",
   "nbconvert_exporter": "python",
   "pygments_lexer": "ipython3",
   "version": "3.8.5"
  }
 },
 "nbformat": 4,
 "nbformat_minor": 5
}
