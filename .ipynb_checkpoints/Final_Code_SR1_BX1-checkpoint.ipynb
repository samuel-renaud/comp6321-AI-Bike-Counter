{
 "cells": [
  {
   "cell_type": "markdown",
   "id": "6bbb9aa2",
   "metadata": {},
   "source": [
    "<H1> Use of Deep Learning to Predict the Number of Bikes in Montreal </H1>\n",
    "<H4> By Samuel Renaud and Bowen Xu </H4>"
   ]
  },
  {
   "cell_type": "markdown",
   "id": "faac3c54",
   "metadata": {},
   "source": [
    "\n",
    "\n",
    "\n",
    "\n",
    "**Run the code cell below** to import the required packages."
   ]
  },
  {
   "cell_type": "code",
   "execution_count": 1,
   "id": "73080823",
   "metadata": {},
   "outputs": [],
   "source": [
    "import pandas as pd\n",
    "import numpy as np\n",
    "import torch\n",
    "import matplotlib.pyplot as plt\n",
    "from numpy import mean\n",
    "from numpy import std\n",
    "from sklearn.preprocessing import StandardScaler\n",
    "from sklearn.preprocessing import OneHotEncoder\n",
    "from sklearn.neighbors import KNeighborsClassifier\n",
    "from sklearn.model_selection import train_test_split\n",
    "from sklearn.metrics import accuracy_score\n",
    "from ray import tune #for hyper parameter tuning\n",
    "torch.manual_seed(0); # for reproducibility of results"
   ]
  },
  {
   "cell_type": "markdown",
   "id": "16ad5769",
   "metadata": {},
   "source": [
    "<H2> The first step is to pre-process the bicycle data </H2>\n",
    "<H4> *Note the year 2019 has different formatting and is done in the following cell </H4>"
   ]
  },
  {
   "cell_type": "code",
   "execution_count": 2,
   "id": "abbf7b26",
   "metadata": {},
   "outputs": [
    {
     "name": "stdout",
     "output_type": "stream",
     "text": [
      "<class 'pandas.core.frame.DataFrame'>\n",
      "RangeIndex: 365 entries, 0 to 364\n",
      "Data columns (total 15 columns):\n",
      " #   Column              Non-Null Count  Dtype  \n",
      "---  ------              --------------  -----  \n",
      " 0   Year                365 non-null    int64  \n",
      " 1   Month               365 non-null    int64  \n",
      " 2   Day                 365 non-null    int64  \n",
      " 3   Max Temp (°C)       365 non-null    float64\n",
      " 4   Min Temp (°C)       365 non-null    float64\n",
      " 5   Mean Temp (°C)      365 non-null    float64\n",
      " 6   Total Precip (mm)   365 non-null    float64\n",
      " 7   Snow on Grnd (cm)   365 non-null    float64\n",
      " 8   Rel Hum (%)         365 non-null    float64\n",
      " 9   Wind Dir (10s deg)  365 non-null    float64\n",
      " 10  Wind Spd (km/h)     365 non-null    float64\n",
      " 11  Wind Chill          365 non-null    float64\n",
      " 12  Berri1              365 non-null    int64  \n",
      " 13  Maisonneuve_2       365 non-null    int64  \n",
      " 14  Maisonneuve_1       365 non-null    int64  \n",
      "dtypes: float64(9), int64(6)\n",
      "memory usage: 42.9 KB\n"
     ]
    }
   ],
   "source": [
    "#this extracts the bike counts for a given year but other years need to be specified for years 2010-2018\n",
    "bike_count_2009 = pd.read_csv('bike_count/comptagevelo2009.csv')\n",
    "bike_count_2009 = bike_count_2009.fillna(0)\n",
    "bike_count_2009 = bike_count_2009[['Berri1','Maisonneuve_2','Maisonneuve_1']].astype('int64')\n",
    "\n",
    "#This identifies the fields to be extracted from the daily weather data\n",
    "fields = ['Max Temp (°C)', \n",
    "          'Min Temp (°C)',\n",
    "         'Mean Temp (°C)',\n",
    "         'Total Precip (mm)',\n",
    "          'Snow on Grnd (cm)',\n",
    "         'Year',\n",
    "         'Month',\n",
    "         'Day']\n",
    "\n",
    "#This imports the corresponding daily weather data and fill the NAN cells with 0\n",
    "weather_2009 = pd.read_csv('weather_daily/en_climate_daily_QC_702S006_2009_P1D.csv', usecols=fields)\n",
    "weather_2009 = weather_2009.fillna(0)\n",
    "\n",
    "#This identifies the fields to be extracted from the hourly weather data\n",
    "fields = ['Dew Point Temp (°C)', \n",
    "          'Rel Hum (%)',\n",
    "          'Wind Dir (10s deg)',\n",
    "          'Wind Spd (km/h)',\n",
    "         'Wind Chill']\n",
    "\n",
    "weather_hourly_2009 = pd.read_csv('weather_hourly/en_climate_hourly_QC_702S006_01-2009_P1H.csv', usecols=fields)\n",
    "\n",
    "# This for loop goes through all the hourly datasets for a given year (here is 2009) and concatenates the samples together\n",
    "for i in range(11):\n",
    "    n = i+2\n",
    "    name = open(\"weather_hourly/en_climate_hourly_QC_702S006_%.2d-2009_P1H.csv\" % n)\n",
    "    weather_hourly_2009_temp = pd.read_csv(name)\n",
    "    weather_hourly_2009_temp\n",
    "    weather_hourly_2009 = pd.concat([weather_hourly_2009, weather_hourly_2009_temp], axis=0, join=\"inner\")\n",
    "\n",
    "# This converts the hourly datasets (here for 2009) to a daily basis by averaging\n",
    "weather_hourly_2009 = weather_hourly_2009.fillna(0)\n",
    "weather_hourly_2009 = weather_hourly_2009.groupby(np.arange(len(weather_hourly_2009))//24).mean()\n",
    "weather_hourly_2009.reindex()\n",
    "\n",
    "# This merges the bike counts and weather data together\n",
    "totalData_2009 = pd.concat([weather_2009,weather_hourly_2009,bike_count_2009], axis=1, join=\"inner\")\n",
    "totalData_2009.to_csv('totalData_2009.csv',index=False)\n",
    "totalData_2009.info()"
   ]
  },
  {
   "cell_type": "code",
   "execution_count": 3,
   "id": "83909631",
   "metadata": {},
   "outputs": [],
   "source": [
    "# The organization of the dataframe of bike counts has been changed since 2019 (included)\n",
    "# and the counting interval has been increased from an hour to 15 min since 2019 (included)\n",
    "# So a special treatment must be brought to 2019\n",
    "\n",
    "# The differences include renaming the attribute for the selected counters, removing the duplicated data on July and\n",
    "# group the 15-min records into a daily basis by adding up\n",
    "\n",
    "bike_count_2019 = pd.read_csv('bike_count/comptage_velo_2019.csv')\n",
    "bike_count_2019 = bike_count_2019[['Date','compteur_100003032','compteur_100003039','compteur_100011783']]\n",
    "bike_count_2019 = bike_count_2019.drop_duplicates(subset=['Date','compteur_100003032','compteur_100003039','compteur_100011783'])\n",
    "bike_count_2019 = bike_count_2019.reindex()\n",
    "bike_count_2019 = bike_count_2019.fillna(0)\n",
    "bike_count_2019 = bike_count_2019.groupby(np.arange(len(bike_count_2019))//96).sum().round(decimals=0).astype('int64')\n",
    "bike_count_2019.rename(columns={\"compteur_100003032\": \"Berri1\", \"compteur_100003039\": \"Maisonneuve_2\", \"compteur_100011783\": \"Maisonneuve_3\"})\n",
    "bike_count_2019;"
   ]
  },
  {
   "cell_type": "code",
   "execution_count": 4,
   "id": "793872fb",
   "metadata": {},
   "outputs": [
    {
     "name": "stdout",
     "output_type": "stream",
     "text": [
      "<class 'pandas.core.frame.DataFrame'>\n",
      "RangeIndex: 365 entries, 0 to 364\n",
      "Data columns (total 15 columns):\n",
      " #   Column              Non-Null Count  Dtype  \n",
      "---  ------              --------------  -----  \n",
      " 0   Year                365 non-null    int64  \n",
      " 1   Month               365 non-null    int64  \n",
      " 2   Day                 365 non-null    int64  \n",
      " 3   Max Temp (°C)       365 non-null    float64\n",
      " 4   Min Temp (°C)       365 non-null    float64\n",
      " 5   Mean Temp (°C)      365 non-null    float64\n",
      " 6   Total Precip (mm)   365 non-null    float64\n",
      " 7   Snow on Grnd (cm)   365 non-null    float64\n",
      " 8   Rel Hum (%)         365 non-null    float64\n",
      " 9   Wind Dir (10s deg)  365 non-null    float64\n",
      " 10  Wind Spd (km/h)     365 non-null    float64\n",
      " 11  Wind Chill          365 non-null    float64\n",
      " 12  compteur_100003032  365 non-null    int64  \n",
      " 13  compteur_100003039  365 non-null    int64  \n",
      " 14  compteur_100011783  365 non-null    int64  \n",
      "dtypes: float64(9), int64(6)\n",
      "memory usage: 42.9 KB\n"
     ]
    }
   ],
   "source": [
    "#This identifies the fields to be extracted from the daily weather data\n",
    "fields = ['Max Temp (°C)', \n",
    "          'Min Temp (°C)',\n",
    "         'Mean Temp (°C)',\n",
    "         'Total Precip (mm)',\n",
    "          'Snow on Grnd (cm)',\n",
    "         'Year',\n",
    "         'Month',\n",
    "         'Day']\n",
    "\n",
    "#This imports the corresponding daily weather data and fill the NAN cells with 0\n",
    "weather_2019 = pd.read_csv('weather_daily/en_climate_daily_QC_702S006_2019_P1D.csv', usecols=fields)\n",
    "weather_2019 = weather_2019.fillna(0)\n",
    "\n",
    "#This identifies the fields to be extracted from the hourly weather data\n",
    "fields = ['Dew Point Temp (°C)', \n",
    "          'Rel Hum (%)',\n",
    "          'Wind Dir (10s deg)',\n",
    "          'Wind Spd (km/h)',\n",
    "         'Wind Chill']\n",
    "\n",
    "\n",
    "weather_hourly_2019 = pd.read_csv('weather_hourly/en_climate_hourly_QC_702S006_01-2019_P1H.csv', usecols=fields)\n",
    "\n",
    "# This for loop goes through all the hourly datasets for a given year (here is 2019) and concatenates the samples together\n",
    "for i in range(11):\n",
    "    n = i+2\n",
    "    name = open(\"weather_hourly/en_climate_hourly_QC_702S006_%.2d-2019_P1H.csv\" % n)\n",
    "    weather_hourly_2019_temp = pd.read_csv(name)\n",
    "    weather_hourly_2019_temp\n",
    "    weather_hourly_2019 = pd.concat([weather_hourly_2019, weather_hourly_2019_temp], axis=0, join=\"inner\")\n",
    "\n",
    "# This converts the hourly datasets (here for 2019) to a daily basis by averaging\n",
    "weather_hourly_2019 = weather_hourly_2019.fillna(0)\n",
    "weather_hourly_2019 = weather_hourly_2019.groupby(np.arange(len(weather_hourly_2019))//24).mean()\n",
    "weather_hourly_2019.reindex()\n",
    "\n",
    "totalData_2019 = pd.concat([weather_2019,weather_hourly_2019,bike_count_2019], axis=1, join=\"inner\")\n",
    "totalData_2019.to_csv('totalData_2019.csv',index=False)\n",
    "totalData_2019.info()"
   ]
  },
  {
   "cell_type": "markdown",
   "id": "cec37934",
   "metadata": {},
   "source": [
    "<H2> With the bicycle & weather data pre-processed we can move on to data analysis </H2>\n",
    "<H4> *Note all the years have been compiled and stored in the totalData csv file </H4>"
   ]
  },
  {
   "cell_type": "code",
   "execution_count": 5,
   "id": "c2148b1f",
   "metadata": {},
   "outputs": [
    {
     "data": {
      "text/html": [
       "<div>\n",
       "<style scoped>\n",
       "    .dataframe tbody tr th:only-of-type {\n",
       "        vertical-align: middle;\n",
       "    }\n",
       "\n",
       "    .dataframe tbody tr th {\n",
       "        vertical-align: top;\n",
       "    }\n",
       "\n",
       "    .dataframe thead th {\n",
       "        text-align: right;\n",
       "    }\n",
       "</style>\n",
       "<table border=\"1\" class=\"dataframe\">\n",
       "  <thead>\n",
       "    <tr style=\"text-align: right;\">\n",
       "      <th></th>\n",
       "      <th>Year</th>\n",
       "      <th>Month</th>\n",
       "      <th>Day</th>\n",
       "      <th>Max Temp (°C)</th>\n",
       "      <th>Min Temp (°C)</th>\n",
       "      <th>Mean Temp (°C)</th>\n",
       "      <th>Total Precip (mm)</th>\n",
       "      <th>Snow on Grnd (cm)</th>\n",
       "      <th>Dew Point Temp (°C)</th>\n",
       "      <th>Rel Hum (%)</th>\n",
       "      <th>Wind Dir (10s deg)</th>\n",
       "      <th>Wind Spd (km/h)</th>\n",
       "      <th>Wind Chill</th>\n",
       "      <th>Berri1</th>\n",
       "      <th>Maisonneuve_2</th>\n",
       "      <th>Maisonneuve_1</th>\n",
       "    </tr>\n",
       "  </thead>\n",
       "  <tbody>\n",
       "    <tr>\n",
       "      <th>0</th>\n",
       "      <td>2009.0</td>\n",
       "      <td>1.0</td>\n",
       "      <td>1.0</td>\n",
       "      <td>-14.7</td>\n",
       "      <td>-19.9</td>\n",
       "      <td>-17.3</td>\n",
       "      <td>0.0</td>\n",
       "      <td>0.0</td>\n",
       "      <td>-23.125000</td>\n",
       "      <td>59.916667</td>\n",
       "      <td>28.291667</td>\n",
       "      <td>17.375000</td>\n",
       "      <td>-25.875000</td>\n",
       "      <td>29.0</td>\n",
       "      <td>35.0</td>\n",
       "      <td>20.0</td>\n",
       "    </tr>\n",
       "    <tr>\n",
       "      <th>1</th>\n",
       "      <td>2009.0</td>\n",
       "      <td>1.0</td>\n",
       "      <td>2.0</td>\n",
       "      <td>-11.3</td>\n",
       "      <td>-16.2</td>\n",
       "      <td>-13.8</td>\n",
       "      <td>1.0</td>\n",
       "      <td>0.0</td>\n",
       "      <td>-17.029167</td>\n",
       "      <td>76.250000</td>\n",
       "      <td>7.083333</td>\n",
       "      <td>12.250000</td>\n",
       "      <td>-19.458333</td>\n",
       "      <td>19.0</td>\n",
       "      <td>22.0</td>\n",
       "      <td>3.0</td>\n",
       "    </tr>\n",
       "    <tr>\n",
       "      <th>2</th>\n",
       "      <td>2009.0</td>\n",
       "      <td>1.0</td>\n",
       "      <td>3.0</td>\n",
       "      <td>-8.1</td>\n",
       "      <td>-13.0</td>\n",
       "      <td>-10.6</td>\n",
       "      <td>0.0</td>\n",
       "      <td>0.0</td>\n",
       "      <td>-15.441667</td>\n",
       "      <td>67.958333</td>\n",
       "      <td>28.208333</td>\n",
       "      <td>22.541667</td>\n",
       "      <td>-18.708333</td>\n",
       "      <td>24.0</td>\n",
       "      <td>22.0</td>\n",
       "      <td>12.0</td>\n",
       "    </tr>\n",
       "  </tbody>\n",
       "</table>\n",
       "</div>"
      ],
      "text/plain": [
       "     Year  Month  Day  Max Temp (°C)  Min Temp (°C)  Mean Temp (°C)  \\\n",
       "0  2009.0    1.0  1.0          -14.7          -19.9           -17.3   \n",
       "1  2009.0    1.0  2.0          -11.3          -16.2           -13.8   \n",
       "2  2009.0    1.0  3.0           -8.1          -13.0           -10.6   \n",
       "\n",
       "   Total Precip (mm)  Snow on Grnd (cm)  Dew Point Temp (°C)  Rel Hum (%)  \\\n",
       "0                0.0                0.0           -23.125000    59.916667   \n",
       "1                1.0                0.0           -17.029167    76.250000   \n",
       "2                0.0                0.0           -15.441667    67.958333   \n",
       "\n",
       "   Wind Dir (10s deg)  Wind Spd (km/h)  Wind Chill  Berri1  Maisonneuve_2  \\\n",
       "0           28.291667        17.375000  -25.875000    29.0           35.0   \n",
       "1            7.083333        12.250000  -19.458333    19.0           22.0   \n",
       "2           28.208333        22.541667  -18.708333    24.0           22.0   \n",
       "\n",
       "   Maisonneuve_1  \n",
       "0           20.0  \n",
       "1            3.0  \n",
       "2           12.0  "
      ]
     },
     "execution_count": 5,
     "metadata": {},
     "output_type": "execute_result"
    }
   ],
   "source": [
    "# import the total datasets consisting of all the samples from 2009-2019 with selected attributes and targets\n",
    "df = pd.read_csv('data\\\\totalData.csv')\n",
    "df.head(3)"
   ]
  },
  {
   "cell_type": "code",
   "execution_count": 6,
   "id": "08a7185b",
   "metadata": {},
   "outputs": [
    {
     "data": {
      "image/png": "[encoded data removed]",
      "text/plain": [
       "<Figure size 432x288 with 1 Axes>"
      ]
     },
     "metadata": {
      "needs_background": "light"
     },
     "output_type": "display_data"
    },
    {
     "data": {
      "image/png": "[encoded data removed]",
      "text/plain": [
       "<Figure size 432x288 with 1 Axes>"
      ]
     },
     "metadata": {
      "needs_background": "light"
     },
     "output_type": "display_data"
    },
    {
     "data": {
      "image/png": "[encoded data removed]",
      "text/plain": [
       "<Figure size 432x288 with 1 Axes>"
      ]
     },
     "metadata": {
      "needs_background": "light"
     },
     "output_type": "display_data"
    },
    {
     "data": {
      "image/png": "[encoded data removed]",
      "text/plain": [
       "<Figure size 432x288 with 1 Axes>"
      ]
     },
     "metadata": {
      "needs_background": "light"
     },
     "output_type": "display_data"
    },
    {
     "data": {
      "image/png": "[encoded data removed]",
      "text/plain": [
       "<Figure size 432x288 with 1 Axes>"
      ]
     },
     "metadata": {
      "needs_background": "light"
     },
     "output_type": "display_data"
    },
    {
     "data": {
      "image/png": "[encoded data removed]",
      "text/plain": [
       "<Figure size 432x288 with 1 Axes>"
      ]
     },
     "metadata": {
      "needs_background": "light"
     },
     "output_type": "display_data"
    },
    {
     "data": {
      "image/png": "[encoded data removed]",
      "text/plain": [
       "<Figure size 432x288 with 1 Axes>"
      ]
     },
     "metadata": {
      "needs_background": "light"
     },
     "output_type": "display_data"
    },
    {
     "data": {
      "image/png": "[encoded data removed]",
      "text/plain": [
       "<Figure size 432x288 with 1 Axes>"
      ]
     },
     "metadata": {
      "needs_background": "light"
     },
     "output_type": "display_data"
    },
    {
     "data": {
      "image/png": "[encoded data removed]",
      "text/plain": [
       "<Figure size 432x288 with 1 Axes>"
      ]
     },
     "metadata": {
      "needs_background": "light"
     },
     "output_type": "display_data"
    },
    {
     "data": {
      "image/png": "[encoded data removed]",
      "text/plain": [
       "<Figure size 432x288 with 1 Axes>"
      ]
     },
     "metadata": {
      "needs_background": "light"
     },
     "output_type": "display_data"
    },
    {
     "data": {
      "image/png": "[encoded data removed]",
      "text/plain": [
       "<Figure size 432x288 with 1 Axes>"
      ]
     },
     "metadata": {
      "needs_background": "light"
     },
     "output_type": "display_data"
    },
    {
     "data": {
      "image/png": "[encoded data removed]",
      "text/plain": [
       "<Figure size 432x288 with 1 Axes>"
      ]
     },
     "metadata": {
      "needs_background": "light"
     },
     "output_type": "display_data"
    },
    {
     "data": {
      "image/png": "[encoded data removed]",
      "text/plain": [
       "<Figure size 432x288 with 1 Axes>"
      ]
     },
     "metadata": {
      "needs_background": "light"
     },
     "output_type": "display_data"
    },
    {
     "data": {
      "image/png": "[encoded data removed]",
      "text/plain": [
       "<Figure size 432x288 with 1 Axes>"
      ]
     },
     "metadata": {
      "needs_background": "light"
     },
     "output_type": "display_data"
    },
    {
     "data": {
      "image/png": "[encoded data removed]",
      "text/plain": [
       "<Figure size 432x288 with 1 Axes>"
      ]
     },
     "metadata": {
      "needs_background": "light"
     },
     "output_type": "display_data"
    },
    {
     "data": {
      "image/png": "[encoded data removed]",
      "text/plain": [
       "<Figure size 432x288 with 1 Axes>"
      ]
     },
     "metadata": {
      "needs_background": "light"
     },
     "output_type": "display_data"
    }
   ],
   "source": [
    "#make a histogram of all the features\n",
    "for column in df.columns:\n",
    "    plt.figure()\n",
    "    plt.hist(df[column], bins=df[column].nunique(), edgecolor='k')\n",
    "    plt.title(column)"
   ]
  },
  {
   "cell_type": "markdown",
   "id": "af62bec8",
   "metadata": {},
   "source": [
    "Let's drop all the columns with zero bikes (note that although some days might really have 0 there is too much bias towards 0 due to the erroneous days)"
   ]
  },
  {
   "cell_type": "code",
   "execution_count": 7,
   "id": "5a6c0ee3",
   "metadata": {},
   "outputs": [],
   "source": [
    "df = df.drop(df[(df['Berri1']==0) | (df['Maisonneuve_2']==0) | (df['Maisonneuve_1']==0)].index)"
   ]
  },
  {
   "cell_type": "markdown",
   "id": "988cf093",
   "metadata": {},
   "source": [
    "Wind chill only appears when temperatures are below zero! This makes things complicated let's remove it for now\n",
    "<br>\n",
    "Let's also get rid of sparse columns like [Total Precip] and [Snow on Grnd (cm)] for now."
   ]
  },
  {
   "cell_type": "code",
   "execution_count": 8,
   "id": "d3c6c8a7",
   "metadata": {},
   "outputs": [],
   "source": [
    "df = df.drop(columns=['Wind Chill','Total Precip (mm)','Snow on Grnd (cm)'])"
   ]
  },
  {
   "cell_type": "markdown",
   "id": "06637cb4",
   "metadata": {},
   "source": [
    "Finally we drop the data sparse days where many things are missing simultaneously"
   ]
  },
  {
   "cell_type": "code",
   "execution_count": 9,
   "id": "26f573d9",
   "metadata": {},
   "outputs": [],
   "source": [
    "df = df.drop(df[(df['Max Temp (°C)']==0) & (df['Min Temp (°C)']==0) & (df['Mean Temp (°C)']==0) & (df['Dew Point Temp (°C)']==0) & (df['Rel Hum (%)']==0)].index)"
   ]
  },
  {
   "cell_type": "markdown",
   "id": "58f7bd78",
   "metadata": {},
   "source": [
    "let's take another look at those histograms"
   ]
  },
  {
   "cell_type": "code",
   "execution_count": 10,
   "id": "0b4dc08e",
   "metadata": {},
   "outputs": [
    {
     "data": {
      "image/png": "[encoded data removed]",
      "text/plain": [
       "<Figure size 432x288 with 1 Axes>"
      ]
     },
     "metadata": {
      "needs_background": "light"
     },
     "output_type": "display_data"
    },
    {
     "data": {
      "image/png": "[encoded data removed]",
      "text/plain": [
       "<Figure size 432x288 with 1 Axes>"
      ]
     },
     "metadata": {
      "needs_background": "light"
     },
     "output_type": "display_data"
    },
    {
     "data": {
      "image/png": "[encoded data removed]",
      "text/plain": [
       "<Figure size 432x288 with 1 Axes>"
      ]
     },
     "metadata": {
      "needs_background": "light"
     },
     "output_type": "display_data"
    },
    {
     "data": {
      "image/png": "[encoded data removed]",
      "text/plain": [
       "<Figure size 432x288 with 1 Axes>"
      ]
     },
     "metadata": {
      "needs_background": "light"
     },
     "output_type": "display_data"
    },
    {
     "data": {
      "image/png": "[encoded data removed]",
      "text/plain": [
       "<Figure size 432x288 with 1 Axes>"
      ]
     },
     "metadata": {
      "needs_background": "light"
     },
     "output_type": "display_data"
    },
    {
     "data": {
      "image/png": "[encoded data removed]",
      "text/plain": [
       "<Figure size 432x288 with 1 Axes>"
      ]
     },
     "metadata": {
      "needs_background": "light"
     },
     "output_type": "display_data"
    },
    {
     "data": {
      "image/png": "[encoded data removed]",
      "text/plain": [
       "<Figure size 432x288 with 1 Axes>"
      ]
     },
     "metadata": {
      "needs_background": "light"
     },
     "output_type": "display_data"
    },
    {
     "data": {
      "image/png": "[encoded data removed]",
      "text/plain": [
       "<Figure size 432x288 with 1 Axes>"
      ]
     },
     "metadata": {
      "needs_background": "light"
     },
     "output_type": "display_data"
    },
    {
     "data": {
      "image/png": "[encoded data removed]",
      "text/plain": [
       "<Figure size 432x288 with 1 Axes>"
      ]
     },
     "metadata": {
      "needs_background": "light"
     },
     "output_type": "display_data"
    },
    {
     "data": {
      "image/png": "[encoded data removed]",
      "text/plain": [
       "<Figure size 432x288 with 1 Axes>"
      ]
     },
     "metadata": {
      "needs_background": "light"
     },
     "output_type": "display_data"
    },
    {
     "data": {
      "image/png": "[encoded data removed]",
      "text/plain": [
       "<Figure size 432x288 with 1 Axes>"
      ]
     },
     "metadata": {
      "needs_background": "light"
     },
     "output_type": "display_data"
    },
    {
     "data": {
      "image/png": "[encoded data removed]",
      "text/plain": [
       "<Figure size 432x288 with 1 Axes>"
      ]
     },
     "metadata": {
      "needs_background": "light"
     },
     "output_type": "display_data"
    },
    {
     "data": {
      "image/png": "[encoded data removed]",
      "text/plain": [
       "<Figure size 432x288 with 1 Axes>"
      ]
     },
     "metadata": {
      "needs_background": "light"
     },
     "output_type": "display_data"
    }
   ],
   "source": [
    "for column in df.columns:\n",
    "    plt.figure()\n",
    "    plt.hist(df[column], bins=df[column].nunique(), edgecolor='k')\n",
    "    plt.title(column)"
   ]
  },
  {
   "cell_type": "markdown",
   "id": "cc22d248",
   "metadata": {},
   "source": [
    "While there are still some spurious spikes most of the anomalies have been adressed.\n",
    "We save the dataset for loading into the mode"
   ]
  },
  {
   "cell_type": "code",
   "execution_count": 11,
   "id": "e68c50c9",
   "metadata": {},
   "outputs": [],
   "source": [
    "df.to_csv('processed_data.csv',index=None)"
   ]
  },
  {
   "cell_type": "markdown",
   "id": "14da2512",
   "metadata": {},
   "source": [
    "<H2> KNN MODEL </H2>"
   ]
  },
  {
   "cell_type": "markdown",
   "id": "b0af4f81",
   "metadata": {},
   "source": [
    "Import the processed data"
   ]
  },
  {
   "cell_type": "code",
   "execution_count": 12,
   "id": "87c07989",
   "metadata": {},
   "outputs": [
    {
     "data": {
      "text/html": [
       "<div>\n",
       "<style scoped>\n",
       "    .dataframe tbody tr th:only-of-type {\n",
       "        vertical-align: middle;\n",
       "    }\n",
       "\n",
       "    .dataframe tbody tr th {\n",
       "        vertical-align: top;\n",
       "    }\n",
       "\n",
       "    .dataframe thead th {\n",
       "        text-align: right;\n",
       "    }\n",
       "</style>\n",
       "<table border=\"1\" class=\"dataframe\">\n",
       "  <thead>\n",
       "    <tr style=\"text-align: right;\">\n",
       "      <th></th>\n",
       "      <th>Year</th>\n",
       "      <th>Month</th>\n",
       "      <th>Day</th>\n",
       "      <th>Max Temp (°C)</th>\n",
       "      <th>Min Temp (°C)</th>\n",
       "      <th>Mean Temp (°C)</th>\n",
       "      <th>Dew Point Temp (°C)</th>\n",
       "      <th>Rel Hum (%)</th>\n",
       "      <th>Wind Dir (10s deg)</th>\n",
       "      <th>Wind Spd (km/h)</th>\n",
       "      <th>Berri1</th>\n",
       "      <th>Maisonneuve_2</th>\n",
       "      <th>Maisonneuve_1</th>\n",
       "    </tr>\n",
       "  </thead>\n",
       "  <tbody>\n",
       "    <tr>\n",
       "      <th>0</th>\n",
       "      <td>2009.0</td>\n",
       "      <td>1.0</td>\n",
       "      <td>1.0</td>\n",
       "      <td>-14.7</td>\n",
       "      <td>-19.9</td>\n",
       "      <td>-17.3</td>\n",
       "      <td>-23.125000</td>\n",
       "      <td>59.916667</td>\n",
       "      <td>28.291667</td>\n",
       "      <td>17.375000</td>\n",
       "      <td>29.0</td>\n",
       "      <td>35.0</td>\n",
       "      <td>20.0</td>\n",
       "    </tr>\n",
       "    <tr>\n",
       "      <th>1</th>\n",
       "      <td>2009.0</td>\n",
       "      <td>1.0</td>\n",
       "      <td>2.0</td>\n",
       "      <td>-11.3</td>\n",
       "      <td>-16.2</td>\n",
       "      <td>-13.8</td>\n",
       "      <td>-17.029167</td>\n",
       "      <td>76.250000</td>\n",
       "      <td>7.083333</td>\n",
       "      <td>12.250000</td>\n",
       "      <td>19.0</td>\n",
       "      <td>22.0</td>\n",
       "      <td>3.0</td>\n",
       "    </tr>\n",
       "    <tr>\n",
       "      <th>2</th>\n",
       "      <td>2009.0</td>\n",
       "      <td>1.0</td>\n",
       "      <td>3.0</td>\n",
       "      <td>-8.1</td>\n",
       "      <td>-13.0</td>\n",
       "      <td>-10.6</td>\n",
       "      <td>-15.441667</td>\n",
       "      <td>67.958333</td>\n",
       "      <td>28.208333</td>\n",
       "      <td>22.541667</td>\n",
       "      <td>24.0</td>\n",
       "      <td>22.0</td>\n",
       "      <td>12.0</td>\n",
       "    </tr>\n",
       "  </tbody>\n",
       "</table>\n",
       "</div>"
      ],
      "text/plain": [
       "     Year  Month  Day  Max Temp (°C)  Min Temp (°C)  Mean Temp (°C)  \\\n",
       "0  2009.0    1.0  1.0          -14.7          -19.9           -17.3   \n",
       "1  2009.0    1.0  2.0          -11.3          -16.2           -13.8   \n",
       "2  2009.0    1.0  3.0           -8.1          -13.0           -10.6   \n",
       "\n",
       "   Dew Point Temp (°C)  Rel Hum (%)  Wind Dir (10s deg)  Wind Spd (km/h)  \\\n",
       "0           -23.125000    59.916667           28.291667        17.375000   \n",
       "1           -17.029167    76.250000            7.083333        12.250000   \n",
       "2           -15.441667    67.958333           28.208333        22.541667   \n",
       "\n",
       "   Berri1  Maisonneuve_2  Maisonneuve_1  \n",
       "0    29.0           35.0           20.0  \n",
       "1    19.0           22.0            3.0  \n",
       "2    24.0           22.0           12.0  "
      ]
     },
     "execution_count": 12,
     "metadata": {},
     "output_type": "execute_result"
    }
   ],
   "source": [
    "data = pd.read_csv('processed_data.csv')\n",
    "data.head(3)"
   ]
  },
  {
   "cell_type": "markdown",
   "id": "23006ec3",
   "metadata": {},
   "source": [
    "Select the dataset to train on by typing into choices dictionnary: berri, maison2, maison1"
   ]
  },
  {
   "cell_type": "code",
   "execution_count": 13,
   "id": "5ddc6dca",
   "metadata": {},
   "outputs": [],
   "source": [
    "choices = {'berri':\"Berri1\",'maison2':\"Maisonneuve_2\",'maison1':\"Maisonneuve_1\" }\n",
    "\n",
    "selection = choices['maison2']  #<- select by typing into here\n",
    "\n",
    "y = data[selection].to_numpy()"
   ]
  },
  {
   "cell_type": "code",
   "execution_count": 14,
   "id": "77104252",
   "metadata": {},
   "outputs": [],
   "source": [
    "#create custom bin sizes based on Freedman–Diaconis rule see: https://en.wikipedia.org/wiki/Freedman%E2%80%93Diaconis_rule\n",
    "q3, q1 = np.percentile(y,[75,25])\n",
    "bin_width = int(2*(q3-q1)/np.cbrt(len(y)))\n",
    "bins = np.arange(0,max(y)+bin_width,bin_width)\n",
    "\n",
    "To_categorize = np.arange(0,len(bins)-1,1)\n",
    "\n",
    "data = data.assign(Berri1=pd.cut(data['Berri1'], \n",
    "                               bins=bins, \n",
    "                               labels=To_categorize))\n",
    "data = data.assign(Maisonneuve_2=pd.cut(data['Maisonneuve_2'], \n",
    "                               bins=bins, \n",
    "                               labels=To_categorize))\n",
    "data = data.assign(Maisonneuve_1=pd.cut(data['Maisonneuve_1'], \n",
    "                               bins=bins, \n",
    "                               labels=To_categorize))\n",
    "bike_data=data"
   ]
  },
  {
   "cell_type": "code",
   "execution_count": 15,
   "id": "45dd68e7",
   "metadata": {},
   "outputs": [],
   "source": [
    "columns_to_normalize = ['Max Temp (°C)', 'Min Temp (°C)', 'Mean Temp (°C)', 'Dew Point Temp (°C)',\n",
    "                         'Rel Hum (%)', 'Wind Dir (10s deg)', 'Wind Spd (km/h)']\n",
    "\n",
    "std_scaler = StandardScaler()\n",
    "features = bike_data[columns_to_normalize]\n",
    "scaled_features = std_scaler.fit_transform(features)\n",
    "scaled_features = pd.DataFrame(scaled_features, index=bike_data.index)\n",
    "scaled_features.columns = columns_to_normalize\n",
    "bike_data[columns_to_normalize] = scaled_features"
   ]
  },
  {
   "cell_type": "code",
   "execution_count": 16,
   "id": "65a1168d",
   "metadata": {},
   "outputs": [],
   "source": [
    "X = bike_data.drop(labels=['Berri1', 'Maisonneuve_2', 'Maisonneuve_1'],axis=1)\n",
    "y = bike_data[selection]"
   ]
  },
  {
   "cell_type": "code",
   "execution_count": 17,
   "id": "b077cc23",
   "metadata": {},
   "outputs": [
    {
     "name": "stdout",
     "output_type": "stream",
     "text": [
      "training set accuracy 1.0\n",
      "test set accuracy 0.375\n"
     ]
    }
   ],
   "source": [
    "X_train, X_test, y_train, y_test = train_test_split(X, y, test_size = 0.10) \n",
    "\n",
    "knn = KNeighborsClassifier(n_neighbors=80, weights='distance',p=1)\n",
    "knn.fit(X_train,y_train)\n",
    "pred_train = knn.predict(X_train)\n",
    "pred_test = knn.predict(X_test)\n",
    "acc_train = accuracy_score(y_train, pred_train)\n",
    "acc_test = accuracy_score(y_test, pred_test)\n",
    "print('training set accuracy', acc_train.round(3))\n",
    "print('test set accuracy', acc_test.round(3))\n"
   ]
  },
  {
   "cell_type": "markdown",
   "id": "53312482",
   "metadata": {},
   "source": [
    "<H2> ANN MODEL </H2>"
   ]
  },
  {
   "cell_type": "markdown",
   "id": "cb4841a8",
   "metadata": {},
   "source": [
    "Load the data and show the first 3 data points"
   ]
  },
  {
   "cell_type": "code",
   "execution_count": 18,
   "id": "a4d134dd",
   "metadata": {},
   "outputs": [
    {
     "data": {
      "text/html": [
       "<div>\n",
       "<style scoped>\n",
       "    .dataframe tbody tr th:only-of-type {\n",
       "        vertical-align: middle;\n",
       "    }\n",
       "\n",
       "    .dataframe tbody tr th {\n",
       "        vertical-align: top;\n",
       "    }\n",
       "\n",
       "    .dataframe thead th {\n",
       "        text-align: right;\n",
       "    }\n",
       "</style>\n",
       "<table border=\"1\" class=\"dataframe\">\n",
       "  <thead>\n",
       "    <tr style=\"text-align: right;\">\n",
       "      <th></th>\n",
       "      <th>Year</th>\n",
       "      <th>Month</th>\n",
       "      <th>Day</th>\n",
       "      <th>Max Temp (°C)</th>\n",
       "      <th>Min Temp (°C)</th>\n",
       "      <th>Mean Temp (°C)</th>\n",
       "      <th>Dew Point Temp (°C)</th>\n",
       "      <th>Rel Hum (%)</th>\n",
       "      <th>Wind Dir (10s deg)</th>\n",
       "      <th>Wind Spd (km/h)</th>\n",
       "      <th>Berri1</th>\n",
       "      <th>Maisonneuve_2</th>\n",
       "      <th>Maisonneuve_1</th>\n",
       "    </tr>\n",
       "  </thead>\n",
       "  <tbody>\n",
       "    <tr>\n",
       "      <th>0</th>\n",
       "      <td>2009.0</td>\n",
       "      <td>1.0</td>\n",
       "      <td>1.0</td>\n",
       "      <td>-14.7</td>\n",
       "      <td>-19.9</td>\n",
       "      <td>-17.3</td>\n",
       "      <td>-23.125000</td>\n",
       "      <td>59.916667</td>\n",
       "      <td>28.291667</td>\n",
       "      <td>17.375000</td>\n",
       "      <td>29.0</td>\n",
       "      <td>35.0</td>\n",
       "      <td>20.0</td>\n",
       "    </tr>\n",
       "    <tr>\n",
       "      <th>1</th>\n",
       "      <td>2009.0</td>\n",
       "      <td>1.0</td>\n",
       "      <td>2.0</td>\n",
       "      <td>-11.3</td>\n",
       "      <td>-16.2</td>\n",
       "      <td>-13.8</td>\n",
       "      <td>-17.029167</td>\n",
       "      <td>76.250000</td>\n",
       "      <td>7.083333</td>\n",
       "      <td>12.250000</td>\n",
       "      <td>19.0</td>\n",
       "      <td>22.0</td>\n",
       "      <td>3.0</td>\n",
       "    </tr>\n",
       "    <tr>\n",
       "      <th>2</th>\n",
       "      <td>2009.0</td>\n",
       "      <td>1.0</td>\n",
       "      <td>3.0</td>\n",
       "      <td>-8.1</td>\n",
       "      <td>-13.0</td>\n",
       "      <td>-10.6</td>\n",
       "      <td>-15.441667</td>\n",
       "      <td>67.958333</td>\n",
       "      <td>28.208333</td>\n",
       "      <td>22.541667</td>\n",
       "      <td>24.0</td>\n",
       "      <td>22.0</td>\n",
       "      <td>12.0</td>\n",
       "    </tr>\n",
       "  </tbody>\n",
       "</table>\n",
       "</div>"
      ],
      "text/plain": [
       "     Year  Month  Day  Max Temp (°C)  Min Temp (°C)  Mean Temp (°C)  \\\n",
       "0  2009.0    1.0  1.0          -14.7          -19.9           -17.3   \n",
       "1  2009.0    1.0  2.0          -11.3          -16.2           -13.8   \n",
       "2  2009.0    1.0  3.0           -8.1          -13.0           -10.6   \n",
       "\n",
       "   Dew Point Temp (°C)  Rel Hum (%)  Wind Dir (10s deg)  Wind Spd (km/h)  \\\n",
       "0           -23.125000    59.916667           28.291667        17.375000   \n",
       "1           -17.029167    76.250000            7.083333        12.250000   \n",
       "2           -15.441667    67.958333           28.208333        22.541667   \n",
       "\n",
       "   Berri1  Maisonneuve_2  Maisonneuve_1  \n",
       "0    29.0           35.0           20.0  \n",
       "1    19.0           22.0            3.0  \n",
       "2    24.0           22.0           12.0  "
      ]
     },
     "execution_count": 18,
     "metadata": {},
     "output_type": "execute_result"
    }
   ],
   "source": [
    "data = pd.read_csv('processed_data.csv')\n",
    "data.head(3)"
   ]
  },
  {
   "cell_type": "code",
   "execution_count": 19,
   "id": "cb277947",
   "metadata": {},
   "outputs": [],
   "source": [
    "#drop the y's from the X data and drop the dates on the X\n",
    "X = torch.Tensor(data.drop(columns=['Berri1','Maisonneuve_2','Maisonneuve_1']).to_numpy())\n",
    "X = X[:, 3:]\n",
    "#select which of the 3 stations to train on\n",
    "y = torch.Tensor(data['Berri1'].to_numpy())"
   ]
  },
  {
   "cell_type": "markdown",
   "id": "bc6448b5",
   "metadata": {},
   "source": [
    "create bins and plot a histogram"
   ]
  },
  {
   "cell_type": "code",
   "execution_count": 20,
   "id": "a075cc6e",
   "metadata": {},
   "outputs": [
    {
     "data": {
      "image/png": "[encoded data removed]",
      "text/plain": [
       "<Figure size 432x288 with 1 Axes>"
      ]
     },
     "metadata": {
      "needs_background": "light"
     },
     "output_type": "display_data"
    }
   ],
   "source": [
    "q3, q1 = np.percentile(y,[75,25])\n",
    "bin_width = int(2*(q3-q1)/np.cbrt(len(y)))\n",
    "bins = np.arange(0,max(y),bin_width)\n",
    "\n",
    "plt.hist(y.squeeze().numpy(), bins=bins);"
   ]
  },
  {
   "cell_type": "code",
   "execution_count": 21,
   "id": "978793d4",
   "metadata": {},
   "outputs": [],
   "source": [
    "y_bin = np.digitize(y.unsqueeze(1), bins)\n",
    "one_hot = OneHotEncoder()\n",
    "y_hot = torch.Tensor((one_hot.fit_transform(y_bin)).toarray())"
   ]
  },
  {
   "cell_type": "markdown",
   "id": "89331dca",
   "metadata": {},
   "source": [
    "Let's Split the test, train and validation datasets, we also scramble the data here"
   ]
  },
  {
   "cell_type": "code",
   "execution_count": 22,
   "id": "0b0a07e5",
   "metadata": {},
   "outputs": [
    {
     "name": "stdout",
     "output_type": "stream",
     "text": [
      "X: torch.Size([2743, 7]) y: torch.Size([2743]) \n",
      "X_train: torch.Size([2468, 7]) y_train: torch.Size([2468, 16]) \n",
      "X_test: torch.Size([236, 7]) y_test: torch.Size([236, 16]) \n",
      "X_val: torch.Size([39, 7]) y_val: torch.Size([39, 16])\n"
     ]
    }
   ],
   "source": [
    "X_train,X_test, y_train, y_test = train_test_split(X,y_hot, test_size=0.10)\n",
    "\n",
    "X_test, X_val, y_test, y_val = train_test_split(X_test,y_test, test_size=0.14)\n",
    "\n",
    "print(\"X:\", X.shape, \"y:\", y.shape,\n",
    "      \"\\nX_train:\", X_train.shape, \"y_train:\", y_train.shape,\n",
    "      \"\\nX_test:\", X_test.shape, \"y_test:\", y_test.shape,\n",
    "     \"\\nX_val:\", X_val.shape, \"y_val:\", y_val.shape)"
   ]
  },
  {
   "cell_type": "code",
   "execution_count": 23,
   "id": "a487fa99",
   "metadata": {},
   "outputs": [],
   "source": [
    "class BikeModel(torch.nn.Module):\n",
    "    '''\n",
    "    BikeModel neural network classifier\n",
    "    __init__ : initializes the model specifying network shapes\n",
    "    forward: incorporates the layers into the forward pass\n",
    "    '''\n",
    "    def __init__(self, linear=10, drop=0.50, out_features=16):\n",
    "        super(BikeModel, self).__init__()\n",
    "        self.linear1 = torch.nn.Linear(in_features=7, out_features=linear)\n",
    "        self.linear2 = torch.nn.Linear(in_features=linear,out_features=linear)\n",
    "        self.linear3 = torch.nn.Linear(in_features=linear,out_features=out_features)\n",
    "        self.drop1 = torch.nn.Dropout(p=drop)\n",
    "        self.drop2 = torch.nn.Dropout(p=drop)\n",
    "    def forward(self, X):\n",
    "        H = self.linear1(X)\n",
    "        H = self.drop1(torch.nn.functional.relu(H))\n",
    "        Z = self.linear2(H)\n",
    "        Z = self.drop2(torch.nn.functional.relu(Z))\n",
    "        Z = self.linear3(Z)\n",
    "        return Z"
   ]
  },
  {
   "cell_type": "code",
   "execution_count": 24,
   "id": "5f49b48d",
   "metadata": {},
   "outputs": [
    {
     "name": "stdout",
     "output_type": "stream",
     "text": [
      "Epoch 100: Train_loss: 1.5824 \n",
      "Epoch 100: Test_loss: 1.7477 \n",
      "Epoch 200: Train_loss: 1.5498 \n",
      "Epoch 200: Test_loss: 1.7049 \n",
      "Epoch 300: Train_loss: 1.4752 \n",
      "Epoch 300: Test_loss: 1.6952 \n",
      "Epoch 400: Train_loss: 1.4925 \n",
      "Epoch 400: Test_loss: 1.6690 \n",
      "Epoch 500: Train_loss: 1.5063 \n",
      "Epoch 500: Test_loss: 1.6964 \n",
      "Epoch 600: Train_loss: 1.4322 \n",
      "Epoch 600: Test_loss: 1.6646 \n",
      "Epoch 700: Train_loss: 1.4870 \n",
      "Epoch 700: Test_loss: 1.6677 \n"
     ]
    }
   ],
   "source": [
    "#used to store loss results for plotting below\n",
    "train_loss = []\n",
    "test_loss = []\n",
    "\n",
    "#Set to true to perform a hyperparameter search using RayTune\n",
    "param_search=False\n",
    "def train(config):\n",
    "    '''\n",
    "    Main ANN classifier function training the model in 1 of 2 modes: \n",
    "    \n",
    "    -param_search=True\n",
    "    -special training setting to use raytune for hyperparameter searching\n",
    "    -config: leave empty as the \"config\" dictionnary will be supplied below, in the call to the RayTune run function\n",
    "    note the data used should be changed to the \"val\" data from the \"test\" data\n",
    "    \n",
    "    -param_search=False,\n",
    "    -typical training behaviour \n",
    "    -The hyperparameters are manually set below\n",
    "    -prints losses \n",
    "    -returns the final model to calculate accuracies further below\n",
    "    '''\n",
    "    # Initialize the model \n",
    "    drop=0.5\n",
    "    linear=60\n",
    "    batch=1024\n",
    "    epochs=700\n",
    "    lr=0.005\n",
    "\n",
    "    if config['param_search']:\n",
    "        drop=config[\"drop\"]\n",
    "        linear=config[\"linear\"]\n",
    "        batch=config[\"batch\"]\n",
    "        epochs=config[\"epoch\"]\n",
    "        lr=config[\"lr\"]\n",
    "\n",
    "    ann = BikeModel(linear=linear, drop=drop, out_features=config['out_features'])\n",
    "    batch_size= batch\n",
    "    num_epoch = epochs\n",
    "\n",
    "    # Initialize the Loss. \n",
    "    loss = torch.nn.CrossEntropyLoss()\n",
    "\n",
    "    # Initialize the Optimizer.\n",
    "    optimizer = torch.optim.AdamW(ann.parameters(), lr=lr)\n",
    "\n",
    "    for epoch in range(num_epoch):\n",
    "        ann.train() #set model to training mode\n",
    "        for i in range(0, X_train.shape[0], batch_size):\n",
    "\n",
    "            # Read minibatches (for both X and y)\n",
    "            Xi = X_train[i:i+batch_size]\n",
    "            yi = y_train[i:i+batch_size]\n",
    "\n",
    "            # Run the RNN model\n",
    "            output = ann.forward(Xi)\n",
    "\n",
    "            l = loss(output,yi)\n",
    "\n",
    "            # Update the parameters\n",
    "            ann.zero_grad()\n",
    "            l.backward()\n",
    "            optimizer.step()\n",
    "\n",
    "        train_loss.append(l.item())\n",
    "        ann.eval()\n",
    "        output = ann.forward(X_test)\n",
    "        l_test = torch.nn.functional.cross_entropy(output, y_test)\n",
    "        test_loss.append(l_test.item())\n",
    "        if config['param_search']: \n",
    "            tune.report(l_val.item())\n",
    "        else:\n",
    "            #Print loss\n",
    "            if (epoch + 1) % 100 == 0:\n",
    "                print(\"Epoch %03d: Train_loss: %.4f \" %(epoch+1, l.item()))\n",
    "                print(\"Epoch %03d: Test_loss: %.4f \" %(epoch+1, l_test))\n",
    "    if config['param_search']==False:           \n",
    "        return ann\n",
    "#param_search supplied above is still input into this \"config\" dictionnary and used in the case where it should be \"False\"\n",
    "config = {\"lr\":tune.grid_search([0.001, 0.002, 0.005, 0.01]),\n",
    "          \"batch\":tune.grid_search([1024,2048]),\n",
    "          \"linear\":tune.grid_search([40,60,80,100]),\n",
    "          \"epoch\":tune.grid_search([2000,3000]),\n",
    "          \"drop\":tune.grid_search([0.3,0.4,0.5]),\n",
    "          \"out_features\":y_train.shape[1], #the number of bins may change se we adapt here\n",
    "          \"param_search\":param_search}\n",
    "\n",
    "#checking if we are doing a hyperparameter search or not\n",
    "if param_search:\n",
    "    analysis = tune.run(train, config=config)\n",
    "    df = analysis.dataframe()\n",
    "    df.to_csv('hyper_param_search.csv', index=False)    \n",
    "else:\n",
    "    ann = train(config=config)"
   ]
  },
  {
   "cell_type": "markdown",
   "id": "e17b5318",
   "metadata": {},
   "source": [
    "Plot loss curves"
   ]
  },
  {
   "cell_type": "code",
   "execution_count": 25,
   "id": "1b6ec9ba",
   "metadata": {},
   "outputs": [
    {
     "data": {
      "text/plain": [
       "Text(0, 0.5, 'test')"
      ]
     },
     "execution_count": 25,
     "metadata": {},
     "output_type": "execute_result"
    },
    {
     "data": {
      "image/png": "[encoded data removed]",
      "text/plain": [
       "<Figure size 432x288 with 2 Axes>"
      ]
     },
     "metadata": {
      "needs_background": "light"
     },
     "output_type": "display_data"
    }
   ],
   "source": [
    "ax = plt.subplot((111))\n",
    "plt.plot(train_loss[25:], 'green')\n",
    "plt.ylabel('train', c='green')\n",
    "ax2= ax.twinx()\n",
    "plt.plot(test_loss[25:], 'orange')\n",
    "plt.ylabel('test', c='orange')"
   ]
  },
  {
   "cell_type": "markdown",
   "id": "661281be",
   "metadata": {},
   "source": [
    "Print model accuracies"
   ]
  },
  {
   "cell_type": "code",
   "execution_count": 26,
   "id": "a3be3e9e",
   "metadata": {},
   "outputs": [
    {
     "name": "stdout",
     "output_type": "stream",
     "text": [
      "Training accuracy: 0.437\n",
      "Testing accuracy: 0.403\n"
     ]
    }
   ],
   "source": [
    "#get the training and testing predictions from the model\n",
    "ann.eval() #set to evaluation mode\n",
    "vx_train, pred_train = torch.max(torch.nn.functional.softmax(ann.forward(X_train).detach(),1) , 1)\n",
    "vy_train, iy_train = torch.max(y_train, 1)\n",
    "vx_test, pred_test = torch.max(torch.nn.functional.softmax(ann.forward(X_test).detach(),1), 1)\n",
    "vy_test, iy_test = torch.max(y_test, 1)\n",
    "\n",
    "acc_train = accuracy_score(pred_train,iy_train)\n",
    "acc_test = accuracy_score(pred_test,iy_test)\n",
    "\n",
    "print(\"Training accuracy: {:.3f}\".format( accuracy_score(pred_train,iy_train) ))\n",
    "print(\"Testing accuracy: {:.3f}\".format( accuracy_score(pred_test,iy_test)))"
   ]
  },
  {
   "cell_type": "code",
   "execution_count": null,
   "id": "e305422f",
   "metadata": {},
   "outputs": [],
   "source": []
  },
  {
   "cell_type": "code",
   "execution_count": null,
   "id": "2f2b48e2",
   "metadata": {},
   "outputs": [],
   "source": []
  }
 ],
 "metadata": {
  "kernelspec": {
   "display_name": "Python 3 (ipykernel)",
   "language": "python",
   "name": "python3"
  },
  "language_info": {
   "codemirror_mode": {
    "name": "ipython",
    "version": 3
   },
   "file_extension": ".py",
   "mimetype": "text/x-python",
   "name": "python",
   "nbconvert_exporter": "python",
   "pygments_lexer": "ipython3",
   "version": "3.8.5"
  }
 },
 "nbformat": 4,
 "nbformat_minor": 5
}
