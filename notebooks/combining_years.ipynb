{
 "cells": [
  {
   "cell_type": "code",
   "execution_count": 45,
   "id": "bf69a4c6",
   "metadata": {},
   "outputs": [],
   "source": [
    "import pandas as pd\n",
    "import numpy as np\n",
    "df = []\n",
    "for i in range(2009,2020,1):\n",
    "    df.append(pd.read_csv('totalData_{}.csv'.format(i)).to_numpy())"
   ]
  },
  {
   "cell_type": "code",
   "execution_count": 46,
   "id": "273ef312",
   "metadata": {},
   "outputs": [
    {
     "name": "stdout",
     "output_type": "stream",
     "text": [
      "shape of individual csv before cat:  (365, 15)\n",
      "shape of complete output, expecting 366*2+365*9=4017; actual:  (4017, 15)\n"
     ]
    }
   ],
   "source": [
    "print('shape of individual csv before cat: ',df[0].shape)\n",
    "df = np.vstack(df)\n",
    "print('shape of complete output, expecting 366*2+365*9=4017; actual: ', df.shape)"
   ]
  },
  {
   "cell_type": "code",
   "execution_count": 47,
   "id": "bb5d8f64",
   "metadata": {},
   "outputs": [],
   "source": [
    "df = pd.DataFrame(df, columns=[pd.read_csv('totalData_2009.csv').columns])"
   ]
  },
  {
   "cell_type": "code",
   "execution_count": 48,
   "id": "1ff45ff8",
   "metadata": {},
   "outputs": [],
   "source": [
    "df.to_csv('totalData.csv',index=False)"
   ]
  },
  {
   "cell_type": "code",
   "execution_count": null,
   "id": "0099ad3d",
   "metadata": {},
   "outputs": [],
   "source": []
  }
 ],
 "metadata": {
  "kernelspec": {
   "display_name": "Python 3 (ipykernel)",
   "language": "python",
   "name": "python3"
  },
  "language_info": {
   "codemirror_mode": {
    "name": "ipython",
    "version": 3
   },
   "file_extension": ".py",
   "mimetype": "text/x-python",
   "name": "python",
   "nbconvert_exporter": "python",
   "pygments_lexer": "ipython3",
   "version": "3.8.5"
  }
 },
 "nbformat": 4,
 "nbformat_minor": 5
}
