{
 "cells": [
  {
   "cell_type": "code",
   "execution_count": 1,
   "id": "91513cac",
   "metadata": {},
   "outputs": [],
   "source": [
    "import torch\n",
    "import numpy as np\n",
    "import pandas as pd\n",
    "\n",
    "from sklearn import preprocessing"
   ]
  },
  {
   "cell_type": "code",
   "execution_count": 2,
   "id": "771fd63f",
   "metadata": {},
   "outputs": [
    {
     "data": {
      "text/html": [
       "<div>\n",
       "<style scoped>\n",
       "    .dataframe tbody tr th:only-of-type {\n",
       "        vertical-align: middle;\n",
       "    }\n",
       "\n",
       "    .dataframe tbody tr th {\n",
       "        vertical-align: top;\n",
       "    }\n",
       "\n",
       "    .dataframe thead th {\n",
       "        text-align: right;\n",
       "    }\n",
       "</style>\n",
       "<table border=\"1\" class=\"dataframe\">\n",
       "  <thead>\n",
       "    <tr style=\"text-align: right;\">\n",
       "      <th></th>\n",
       "      <th>Year</th>\n",
       "      <th>Month</th>\n",
       "      <th>Day</th>\n",
       "      <th>Max Temp (°C)</th>\n",
       "      <th>Min Temp (°C)</th>\n",
       "      <th>Mean Temp (°C)</th>\n",
       "      <th>Dew Point Temp (°C)</th>\n",
       "      <th>Rel Hum (%)</th>\n",
       "      <th>Wind Dir (10s deg)</th>\n",
       "      <th>Wind Spd (km/h)</th>\n",
       "      <th>Berri1</th>\n",
       "      <th>Maisonneuve_2</th>\n",
       "      <th>Maisonneuve_1</th>\n",
       "    </tr>\n",
       "  </thead>\n",
       "  <tbody>\n",
       "    <tr>\n",
       "      <th>0</th>\n",
       "      <td>2009.0</td>\n",
       "      <td>1.0</td>\n",
       "      <td>1.0</td>\n",
       "      <td>-14.7</td>\n",
       "      <td>-19.9</td>\n",
       "      <td>-17.3</td>\n",
       "      <td>-23.125000</td>\n",
       "      <td>59.916667</td>\n",
       "      <td>28.291667</td>\n",
       "      <td>17.375000</td>\n",
       "      <td>29.0</td>\n",
       "      <td>35.0</td>\n",
       "      <td>20.0</td>\n",
       "    </tr>\n",
       "    <tr>\n",
       "      <th>1</th>\n",
       "      <td>2009.0</td>\n",
       "      <td>1.0</td>\n",
       "      <td>2.0</td>\n",
       "      <td>-11.3</td>\n",
       "      <td>-16.2</td>\n",
       "      <td>-13.8</td>\n",
       "      <td>-17.029167</td>\n",
       "      <td>76.250000</td>\n",
       "      <td>7.083333</td>\n",
       "      <td>12.250000</td>\n",
       "      <td>19.0</td>\n",
       "      <td>22.0</td>\n",
       "      <td>3.0</td>\n",
       "    </tr>\n",
       "    <tr>\n",
       "      <th>2</th>\n",
       "      <td>2009.0</td>\n",
       "      <td>1.0</td>\n",
       "      <td>3.0</td>\n",
       "      <td>-8.1</td>\n",
       "      <td>-13.0</td>\n",
       "      <td>-10.6</td>\n",
       "      <td>-15.441667</td>\n",
       "      <td>67.958333</td>\n",
       "      <td>28.208333</td>\n",
       "      <td>22.541667</td>\n",
       "      <td>24.0</td>\n",
       "      <td>22.0</td>\n",
       "      <td>12.0</td>\n",
       "    </tr>\n",
       "  </tbody>\n",
       "</table>\n",
       "</div>"
      ],
      "text/plain": [
       "     Year  Month  Day  Max Temp (°C)  Min Temp (°C)  Mean Temp (°C)  \\\n",
       "0  2009.0    1.0  1.0          -14.7          -19.9           -17.3   \n",
       "1  2009.0    1.0  2.0          -11.3          -16.2           -13.8   \n",
       "2  2009.0    1.0  3.0           -8.1          -13.0           -10.6   \n",
       "\n",
       "   Dew Point Temp (°C)  Rel Hum (%)  Wind Dir (10s deg)  Wind Spd (km/h)  \\\n",
       "0           -23.125000    59.916667           28.291667        17.375000   \n",
       "1           -17.029167    76.250000            7.083333        12.250000   \n",
       "2           -15.441667    67.958333           28.208333        22.541667   \n",
       "\n",
       "   Berri1  Maisonneuve_2  Maisonneuve_1  \n",
       "0    29.0           35.0           20.0  \n",
       "1    19.0           22.0            3.0  \n",
       "2    24.0           22.0           12.0  "
      ]
     },
     "execution_count": 2,
     "metadata": {},
     "output_type": "execute_result"
    }
   ],
   "source": [
    "data = pd.read_csv('processed_data.csv')\n",
    "data.head(3)"
   ]
  },
  {
   "cell_type": "code",
   "execution_count": 3,
   "id": "20f2c116",
   "metadata": {},
   "outputs": [],
   "source": [
    "X = torch.Tensor(data.drop(columns=['Berri1','Maisonneuve_2','Maisonneuve_1']).to_numpy())\n",
    "X = X[:, 3:]\n",
    "rnd_idx = torch.randperm(X.shape[0])\n",
    "X = X[rnd_idx]\n",
    "y = torch.Tensor(data['Berri1'].to_numpy()).unsqueeze(1)\n",
    "y = y[rnd_idx]"
   ]
  },
  {
   "cell_type": "markdown",
   "id": "a20c503f",
   "metadata": {},
   "source": [
    "Create classes for each bin and one-hot encode the labels"
   ]
  },
  {
   "cell_type": "code",
   "execution_count": 4,
   "id": "eed41202",
   "metadata": {},
   "outputs": [
    {
     "data": {
      "text/plain": [
       "tensor([[0., 0., 0., 0., 1., 0., 0.],\n",
       "        [0., 0., 0., 0., 0., 1., 0.],\n",
       "        [0., 0., 0., 0., 0., 1., 0.],\n",
       "        [1., 0., 0., 0., 0., 0., 0.]])"
      ]
     },
     "execution_count": 4,
     "metadata": {},
     "output_type": "execute_result"
    }
   ],
   "source": [
    "bins = [0, 100, 500, 1000, 2000, 4000, 8000, 1000000]\n",
    "y_bin = np.digitize(y, bins)\n",
    "from sklearn.preprocessing import OneHotEncoder\n",
    "one_hot = OneHotEncoder()\n",
    "y_hot = torch.Tensor((one_hot.fit_transform(y_bin)).toarray())\n",
    "y_hot[0:4]"
   ]
  },
  {
   "cell_type": "markdown",
   "id": "e72f646a",
   "metadata": {},
   "source": [
    "Let's Split the test and train datasets"
   ]
  },
  {
   "cell_type": "code",
   "execution_count": 5,
   "id": "635b002b",
   "metadata": {},
   "outputs": [
    {
     "name": "stdout",
     "output_type": "stream",
     "text": [
      "X: torch.Size([2743, 7]) y: torch.Size([2743, 1]) \n",
      "X_trn: torch.Size([2523, 7]) y_trn: torch.Size([2523, 7]) \n",
      "X_tst: torch.Size([220, 7]) y_tst: torch.Size([220, 7])\n"
     ]
    }
   ],
   "source": [
    "split = 0.08 # 8% train/test split\n",
    "\n",
    "X_train = X[:int(X.shape[0]*(1-split))]\n",
    "X_test = X[int(X.shape[0]*(1-split)):]\n",
    "\n",
    "y_train = y_hot[:int(X.shape[0]*(1-split))]\n",
    "y_test = y_hot[int(X.shape[0]*(1-split)):]\n",
    "print(\"X:\", X.shape, \"y:\", y.shape,\n",
    "      \"\\nX_trn:\", X_train.shape, \"y_trn:\", y_train.shape,\n",
    "      \"\\nX_tst:\", X_test.shape, \"y_tst:\", y_test.shape)\n"
   ]
  },
  {
   "cell_type": "markdown",
   "id": "8d21b6a4",
   "metadata": {},
   "source": [
    "For this first model we will simply feed the data and solve a regression task."
   ]
  },
  {
   "cell_type": "code",
   "execution_count": null,
   "id": "84b09e4f",
   "metadata": {},
   "outputs": [],
   "source": [
    "class BikeModel(torch.nn.Module):\n",
    "    def __init__(self,batch_first=True, linear=10, drop=0.5):\n",
    "        super(BikeModel, self).__init__()\n",
    "        self.linear1 = torch.nn.Linear(in_features=7, out_features=linear)\n",
    "        self.linear2 = torch.nn.Linear(in_features=linear,out_features=linear)\n",
    "        self.linear3 = torch.nn.Linear(in_features=linear,out_features=7)\n",
    "        self.drop1 = torch.nn.Dropout(p=drop)\n",
    "        self.drop2 = torch.nn.Dropout(p=drop)\n",
    "    def forward(self, X):\n",
    "        H = self.linear1(X)\n",
    "        H = self.drop1(torch.nn.functional.relu(H))\n",
    "        Z = self.linear2(H)\n",
    "        Z = self.drop2(torch.nn.functional.relu(Z))\n",
    "        Z = self.linear3(Z)\n",
    "        return Z"
   ]
  },
  {
   "cell_type": "code",
   "execution_count": null,
   "id": "fc12e1e1",
   "metadata": {
    "scrolled": true
   },
   "outputs": [],
   "source": [
    "from ray import tune\n",
    "\n",
    "# Hyperparameters\n",
    "lr = 0.01\n",
    "batch_size = 1000\n",
    "num_epoch = 2000\n",
    "\n",
    "\n",
    "# Training Loop\n",
    "def train(config):\n",
    "    # Initialize the model \n",
    "    ann = BikeModel(linear=config['linear'])\n",
    "    batch_size = config['batch']\n",
    "    # Initialize the Loss. \n",
    "    loss = torch.nn.CrossEntropyLoss()\n",
    "    train_loss = []\n",
    "    test_loss = []\n",
    "    # Initialize the Optimizer.\n",
    "    optimizer = torch.optim.AdamW(ann.parameters(), lr=config[\"lr\"])\n",
    "    for epoch in range(num_epoch):\n",
    "        for i in range(0, X_train.shape[0], batch_size):\n",
    "\n",
    "            # Read minibatches (for both X and y)\n",
    "            Xi = X_train[i:i+batch_size]\n",
    "            yi = y_train[i:i+batch_size]\n",
    "\n",
    "            # Run the RNN model\n",
    "            output = ann.forward(Xi)\n",
    "\n",
    "            #print('output',output.shape,'yi',yi.shape)\n",
    "            l = loss(output,yi)\n",
    "            #report for hyperparam search\n",
    "            \n",
    "\n",
    "            # Update the parameters (zero_grad, backward, optimization step)\n",
    "            ann.zero_grad()\n",
    "            l.backward()\n",
    "            optimizer.step()\n",
    "\n",
    "        train_loss.append(l.item())\n",
    "        ann.eval()\n",
    "        output = ann.forward(X_test)\n",
    "        l_test = loss(output, y_test)\n",
    "        test_loss.append(l_test.item())\n",
    "        tune.report(l_test.item())\n",
    "        # Print loss\n",
    "#         if (epoch + 1) % 200 == 0:\n",
    "#             print(\"Epoch %03d: Train_loss: %.4f \" %(epoch+1, l.item()))\n",
    "#             print(\"Epoch %03d: Test_loss: %.4f \" %(epoch+1, l_test))\n",
    "config = {\"lr\":tune.grid_search([0.005, 0.01, 0.05]),\n",
    "          \"batch\":tune.grid_search([256, 512, 1024, 2048]),\n",
    "         \"linear\":tune.grid_search([5,10,20,40,50])}\n",
    "analysis = tune.run(train, config=config)"
   ]
  },
  {
   "cell_type": "code",
   "execution_count": 8,
   "id": "eeb0d978",
   "metadata": {},
   "outputs": [
    {
     "name": "stderr",
     "output_type": "stream",
     "text": [
      "2022-04-07 22:11:47,258\tWARNING experiment_analysis.py:460 -- Couldn't read config from 16 paths\n"
     ]
    },
    {
     "data": {
      "text/html": [
       "<div>\n",
       "<style scoped>\n",
       "    .dataframe tbody tr th:only-of-type {\n",
       "        vertical-align: middle;\n",
       "    }\n",
       "\n",
       "    .dataframe tbody tr th {\n",
       "        vertical-align: top;\n",
       "    }\n",
       "\n",
       "    .dataframe thead th {\n",
       "        text-align: right;\n",
       "    }\n",
       "</style>\n",
       "<table border=\"1\" class=\"dataframe\">\n",
       "  <thead>\n",
       "    <tr style=\"text-align: right;\">\n",
       "      <th></th>\n",
       "      <th>_metric</th>\n",
       "      <th>time_this_iter_s</th>\n",
       "      <th>done</th>\n",
       "      <th>timesteps_total</th>\n",
       "      <th>episodes_total</th>\n",
       "      <th>training_iteration</th>\n",
       "      <th>trial_id</th>\n",
       "      <th>experiment_id</th>\n",
       "      <th>date</th>\n",
       "      <th>timestamp</th>\n",
       "      <th>...</th>\n",
       "      <th>pid</th>\n",
       "      <th>hostname</th>\n",
       "      <th>node_ip</th>\n",
       "      <th>time_since_restore</th>\n",
       "      <th>timesteps_since_restore</th>\n",
       "      <th>iterations_since_restore</th>\n",
       "      <th>config/batch</th>\n",
       "      <th>config/linear</th>\n",
       "      <th>config/lr</th>\n",
       "      <th>logdir</th>\n",
       "    </tr>\n",
       "  </thead>\n",
       "  <tbody>\n",
       "    <tr>\n",
       "      <th>0</th>\n",
       "      <td>0.905208</td>\n",
       "      <td>0.018994</td>\n",
       "      <td>False</td>\n",
       "      <td>NaN</td>\n",
       "      <td>NaN</td>\n",
       "      <td>721</td>\n",
       "      <td>2f21d_00000</td>\n",
       "      <td>90ff82c955bc423abedf74f0e98973fd</td>\n",
       "      <td>2022-04-07_22-11-46</td>\n",
       "      <td>1649383906</td>\n",
       "      <td>...</td>\n",
       "      <td>1516</td>\n",
       "      <td>DESKTOP-IMPI4GQ</td>\n",
       "      <td>127.0.0.1</td>\n",
       "      <td>23.575493</td>\n",
       "      <td>0</td>\n",
       "      <td>721</td>\n",
       "      <td>256</td>\n",
       "      <td>5</td>\n",
       "      <td>0.005</td>\n",
       "      <td>C:\\Users\\samue\\ray_results\\train_2022-04-07_22...</td>\n",
       "    </tr>\n",
       "    <tr>\n",
       "      <th>1</th>\n",
       "      <td>0.945296</td>\n",
       "      <td>0.017994</td>\n",
       "      <td>False</td>\n",
       "      <td>NaN</td>\n",
       "      <td>NaN</td>\n",
       "      <td>933</td>\n",
       "      <td>2f21d_00001</td>\n",
       "      <td>0f10ca33ba44479b95197497ffe3941b</td>\n",
       "      <td>2022-04-07_22-11-46</td>\n",
       "      <td>1649383906</td>\n",
       "      <td>...</td>\n",
       "      <td>11348</td>\n",
       "      <td>DESKTOP-IMPI4GQ</td>\n",
       "      <td>127.0.0.1</td>\n",
       "      <td>21.656114</td>\n",
       "      <td>0</td>\n",
       "      <td>933</td>\n",
       "      <td>512</td>\n",
       "      <td>5</td>\n",
       "      <td>0.005</td>\n",
       "      <td>C:\\Users\\samue\\ray_results\\train_2022-04-07_22...</td>\n",
       "    </tr>\n",
       "    <tr>\n",
       "      <th>2</th>\n",
       "      <td>0.953950</td>\n",
       "      <td>0.031990</td>\n",
       "      <td>False</td>\n",
       "      <td>NaN</td>\n",
       "      <td>NaN</td>\n",
       "      <td>931</td>\n",
       "      <td>2f21d_00002</td>\n",
       "      <td>d5cca8fc61c64db89719416f46d1249f</td>\n",
       "      <td>2022-04-07_22-11-46</td>\n",
       "      <td>1649383906</td>\n",
       "      <td>...</td>\n",
       "      <td>5944</td>\n",
       "      <td>DESKTOP-IMPI4GQ</td>\n",
       "      <td>127.0.0.1</td>\n",
       "      <td>21.679107</td>\n",
       "      <td>0</td>\n",
       "      <td>931</td>\n",
       "      <td>1024</td>\n",
       "      <td>5</td>\n",
       "      <td>0.005</td>\n",
       "      <td>C:\\Users\\samue\\ray_results\\train_2022-04-07_22...</td>\n",
       "    </tr>\n",
       "    <tr>\n",
       "      <th>3</th>\n",
       "      <td>0.928964</td>\n",
       "      <td>0.011997</td>\n",
       "      <td>False</td>\n",
       "      <td>NaN</td>\n",
       "      <td>NaN</td>\n",
       "      <td>965</td>\n",
       "      <td>2f21d_00003</td>\n",
       "      <td>847fdcbc49d9445094e6ce98f95631a0</td>\n",
       "      <td>2022-04-07_22-11-46</td>\n",
       "      <td>1649383906</td>\n",
       "      <td>...</td>\n",
       "      <td>14064</td>\n",
       "      <td>DESKTOP-IMPI4GQ</td>\n",
       "      <td>127.0.0.1</td>\n",
       "      <td>21.518159</td>\n",
       "      <td>0</td>\n",
       "      <td>965</td>\n",
       "      <td>2048</td>\n",
       "      <td>5</td>\n",
       "      <td>0.005</td>\n",
       "      <td>C:\\Users\\samue\\ray_results\\train_2022-04-07_22...</td>\n",
       "    </tr>\n",
       "  </tbody>\n",
       "</table>\n",
       "<p>4 rows × 21 columns</p>\n",
       "</div>"
      ],
      "text/plain": [
       "    _metric  time_this_iter_s   done  timesteps_total  episodes_total  \\\n",
       "0  0.905208          0.018994  False              NaN             NaN   \n",
       "1  0.945296          0.017994  False              NaN             NaN   \n",
       "2  0.953950          0.031990  False              NaN             NaN   \n",
       "3  0.928964          0.011997  False              NaN             NaN   \n",
       "\n",
       "   training_iteration     trial_id                     experiment_id  \\\n",
       "0                 721  2f21d_00000  90ff82c955bc423abedf74f0e98973fd   \n",
       "1                 933  2f21d_00001  0f10ca33ba44479b95197497ffe3941b   \n",
       "2                 931  2f21d_00002  d5cca8fc61c64db89719416f46d1249f   \n",
       "3                 965  2f21d_00003  847fdcbc49d9445094e6ce98f95631a0   \n",
       "\n",
       "                  date   timestamp  ...    pid         hostname    node_ip  \\\n",
       "0  2022-04-07_22-11-46  1649383906  ...   1516  DESKTOP-IMPI4GQ  127.0.0.1   \n",
       "1  2022-04-07_22-11-46  1649383906  ...  11348  DESKTOP-IMPI4GQ  127.0.0.1   \n",
       "2  2022-04-07_22-11-46  1649383906  ...   5944  DESKTOP-IMPI4GQ  127.0.0.1   \n",
       "3  2022-04-07_22-11-46  1649383906  ...  14064  DESKTOP-IMPI4GQ  127.0.0.1   \n",
       "\n",
       "  time_since_restore  timesteps_since_restore  iterations_since_restore  \\\n",
       "0          23.575493                        0                       721   \n",
       "1          21.656114                        0                       933   \n",
       "2          21.679107                        0                       931   \n",
       "3          21.518159                        0                       965   \n",
       "\n",
       "   config/batch  config/linear  config/lr  \\\n",
       "0           256              5      0.005   \n",
       "1           512              5      0.005   \n",
       "2          1024              5      0.005   \n",
       "3          2048              5      0.005   \n",
       "\n",
       "                                              logdir  \n",
       "0  C:\\Users\\samue\\ray_results\\train_2022-04-07_22...  \n",
       "1  C:\\Users\\samue\\ray_results\\train_2022-04-07_22...  \n",
       "2  C:\\Users\\samue\\ray_results\\train_2022-04-07_22...  \n",
       "3  C:\\Users\\samue\\ray_results\\train_2022-04-07_22...  \n",
       "\n",
       "[4 rows x 21 columns]"
      ]
     },
     "execution_count": 8,
     "metadata": {},
     "output_type": "execute_result"
    }
   ],
   "source": [
    "df = analysis.dataframe()\n",
    "df"
   ]
  },
  {
   "cell_type": "code",
   "execution_count": null,
   "id": "7f8dcb27",
   "metadata": {},
   "outputs": [],
   "source": [
    "import matplotlib.pyplot as plt\n",
    "ax = plt.subplot((111))\n",
    "plt.plot(train_loss[25:], 'green')\n",
    "plt.ylabel('train', c='green')\n",
    "ax2= ax.twinx()\n",
    "plt.plot(test_loss[25:], 'orange')\n",
    "plt.ylabel('test', c='orange');"
   ]
  },
  {
   "cell_type": "markdown",
   "id": "a4f8412a",
   "metadata": {},
   "source": [
    "Train Data performance"
   ]
  },
  {
   "cell_type": "code",
   "execution_count": null,
   "id": "2be34684",
   "metadata": {},
   "outputs": [],
   "source": [
    "#from sklearn.metrics import accuracy_score\n",
    "import matplotlib.pyplot as plt\n",
    "ann.eval()\n",
    "vx_train, ix_train = torch.max(ann.forward(X_train).detach(), 1)\n",
    "vy_train, iy_train = torch.max(y_train, 1)\n",
    "plt.plot(ix_train[0:15])\n",
    "plt.plot(iy_train[0:15])\n",
    "ix_train[0:10], iy_train[0:10]"
   ]
  },
  {
   "cell_type": "markdown",
   "id": "3abb7489",
   "metadata": {},
   "source": [
    "Test data performance"
   ]
  },
  {
   "cell_type": "code",
   "execution_count": null,
   "id": "8dd27d81",
   "metadata": {},
   "outputs": [],
   "source": [
    "vx_test, ix_test = torch.max(ann.forward(X_test).detach(), 1)\n",
    "vy_test, iy_test = torch.max(y_test, 1)\n",
    "plt.plot(ix_test[0:15])\n",
    "plt.plot(iy_test[0:15])"
   ]
  },
  {
   "cell_type": "code",
   "execution_count": 156,
   "id": "3517da13",
   "metadata": {},
   "outputs": [
    {
     "name": "stdout",
     "output_type": "stream",
     "text": [
      "Training accuracy: 89.06%\n",
      "Testing accuracy: 49.09%\n"
     ]
    }
   ],
   "source": [
    "from sklearn.metrics import accuracy_score\n",
    "\n",
    "print(\"Training accuracy: {:.2f}%\".format( accuracy_score(ix_train,iy_train)*100) )\n",
    "print(\"Testing accuracy: {:.2f}%\".format( accuracy_score(ix_test,iy_test)*100) )"
   ]
  },
  {
   "cell_type": "markdown",
   "id": "6d7a63a5",
   "metadata": {},
   "source": [
    "We can verify that the propper bins were in fact by printing the first few values"
   ]
  },
  {
   "cell_type": "code",
   "execution_count": null,
   "id": "6e9e9ede",
   "metadata": {},
   "outputs": [],
   "source": []
  },
  {
   "cell_type": "code",
   "execution_count": null,
   "id": "741303eb",
   "metadata": {},
   "outputs": [],
   "source": []
  }
 ],
 "metadata": {
  "kernelspec": {
   "display_name": "Python 3 (ipykernel)",
   "language": "python",
   "name": "python3"
  },
  "language_info": {
   "codemirror_mode": {
    "name": "ipython",
    "version": 3
   },
   "file_extension": ".py",
   "mimetype": "text/x-python",
   "name": "python",
   "nbconvert_exporter": "python",
   "pygments_lexer": "ipython3",
   "version": "3.8.5"
  }
 },
 "nbformat": 4,
 "nbformat_minor": 5
}
