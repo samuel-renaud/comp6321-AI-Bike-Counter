{
 "cells": [
  {
   "cell_type": "code",
   "execution_count": 26,
   "id": "35c0a4ba",
   "metadata": {},
   "outputs": [],
   "source": [
    "import pandas as pd\n",
    "import numpy as np"
   ]
  },
  {
   "cell_type": "code",
   "execution_count": 27,
   "id": "fe88fa48",
   "metadata": {},
   "outputs": [
    {
     "name": "stdout",
     "output_type": "stream",
     "text": [
      "<class 'pandas.core.frame.DataFrame'>\n",
      "RangeIndex: 365 entries, 0 to 364\n",
      "Data columns (total 16 columns):\n",
      " #   Column               Non-Null Count  Dtype  \n",
      "---  ------               --------------  -----  \n",
      " 0   Year                 365 non-null    int64  \n",
      " 1   Month                365 non-null    int64  \n",
      " 2   Day                  365 non-null    int64  \n",
      " 3   Max Temp (°C)        365 non-null    float64\n",
      " 4   Min Temp (°C)        365 non-null    float64\n",
      " 5   Mean Temp (°C)       365 non-null    float64\n",
      " 6   Total Precip (mm)    365 non-null    float64\n",
      " 7   Snow on Grnd (cm)    365 non-null    float64\n",
      " 8   Dew Point Temp (°C)  365 non-null    float64\n",
      " 9   Rel Hum (%)          365 non-null    float64\n",
      " 10  Wind Dir (10s deg)   365 non-null    float64\n",
      " 11  Wind Spd (km/h)      365 non-null    float64\n",
      " 12  Wind Chill           365 non-null    float64\n",
      " 13  Berri1               365 non-null    int64  \n",
      " 14  Maisonneuve_2        365 non-null    int64  \n",
      " 15  Maisonneuve_1        365 non-null    int64  \n",
      "dtypes: float64(10), int64(6)\n",
      "memory usage: 45.8 KB\n"
     ]
    }
   ],
   "source": [
    "bike_count_2009 = pd.read_csv('bike_count/comptagevelo2009.csv')\n",
    "bike_count_2009 = bike_count_2009.fillna(0)\n",
    "bike_count_2009 = bike_count_2009[['Berri1','Maisonneuve_2','Maisonneuve_1']].astype('int64')\n",
    "\n",
    "fields = ['Max Temp (°C)', \n",
    "          'Min Temp (°C)',\n",
    "         'Mean Temp (°C)',\n",
    "         'Total Precip (mm)',\n",
    "          'Snow on Grnd (cm)',\n",
    "         'Year',\n",
    "         'Month',\n",
    "         'Day']\n",
    "\n",
    "weather_2009 = pd.read_csv('weather_daily/en_climate_daily_QC_702S006_2009_P1D.csv', usecols=fields)\n",
    "weather_2009 = weather_2009.fillna(0)\n",
    "\n",
    "fields = ['Dew Point Temp (°C)', \n",
    "          'Rel Hum (%)',\n",
    "          'Wind Dir (10s deg)',\n",
    "          'Wind Spd (km/h)',\n",
    "         'Wind Chill']\n",
    "\n",
    "weather_hourly_2009 = pd.read_csv('weather_hourly/en_climate_hourly_QC_702S006_01-2009_P1H.csv', usecols=fields)\n",
    "\n",
    "for i in range(11):\n",
    "    n = i+2\n",
    "    name = open(\"weather_hourly/en_climate_hourly_QC_702S006_%.2d-2009_P1H.csv\" % n)\n",
    "    weather_hourly_2009_temp = pd.read_csv(name)\n",
    "    weather_hourly_2009_temp\n",
    "    weather_hourly_2009 = pd.concat([weather_hourly_2009, weather_hourly_2009_temp], axis=0, join=\"inner\")\n",
    "\n",
    "weather_hourly_2009 = weather_hourly_2009.fillna(0)\n",
    "weather_hourly_2009 = weather_hourly_2009.groupby(np.arange(len(weather_hourly_2009))//24).mean()\n",
    "weather_hourly_2009.reindex()\n",
    "\n",
    "totalData_2009 = pd.concat([weather_2009,weather_hourly_2009,bike_count_2009], axis=1, join=\"inner\")\n",
    "totalData_2009.to_csv('totalData_2009.csv',index=False)\n",
    "totalData_2009.info()"
   ]
  },
  {
   "cell_type": "code",
   "execution_count": null,
   "id": "db109783",
   "metadata": {},
   "outputs": [],
   "source": []
  },
  {
   "cell_type": "code",
   "execution_count": null,
   "id": "367f8847",
   "metadata": {},
   "outputs": [],
   "source": []
  }
 ],
 "metadata": {
  "kernelspec": {
   "display_name": "Python 3 (ipykernel)",
   "language": "python",
   "name": "python3"
  },
  "language_info": {
   "codemirror_mode": {
    "name": "ipython",
    "version": 3
   },
   "file_extension": ".py",
   "mimetype": "text/x-python",
   "name": "python",
   "nbconvert_exporter": "python",
   "pygments_lexer": "ipython3",
   "version": "3.9.7"
  }
 },
 "nbformat": 4,
 "nbformat_minor": 5
}
